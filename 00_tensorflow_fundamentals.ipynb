{
  "nbformat": 4,
  "nbformat_minor": 0,
  "metadata": {
    "colab": {
      "name": "00_tensorflow_fundamentals.ipynb",
      "provenance": [],
      "collapsed_sections": [
        "0upet48Rk1dQ",
        "ZuKPHKVOnYTt",
        "JISeOniRFmAg",
        "QxJHFKpAYx3M",
        "E7i8iBNCW8pf",
        "hTASMKw9lm_r"
      ],
      "toc_visible": true,
      "authorship_tag": "ABX9TyOSjG2Yb8sZfuxJOwJzWto9",
      "include_colab_link": true
    },
    "kernelspec": {
      "name": "python3",
      "display_name": "Python 3"
    },
    "language_info": {
      "name": "python"
    }
  },
  "cells": [
    {
      "cell_type": "markdown",
      "metadata": {
        "id": "view-in-github",
        "colab_type": "text"
      },
      "source": [
        "<a href=\"https://colab.research.google.com/github/JovanBosic/Preparation-for-TensorFlow-certificate-2/blob/main/00_tensorflow_fundamentals.ipynb\" target=\"_parent\"><img src=\"https://colab.research.google.com/assets/colab-badge.svg\" alt=\"Open In Colab\"/></a>"
      ]
    },
    {
      "cell_type": "markdown",
      "source": [
        "#In this notebook we are going to cover some of the fundamentals concepts of tensors using TensorFlow\n",
        "\n",
        "More specifically, we are going to coverČ\n",
        "* Introduction to tensors\n",
        "* Getting information from tensors\n",
        "* Manipulating tensors\n",
        "* Tensors & NumPy\n",
        "* Using @tf.function (a way to seed up your regular Python functions)\n",
        "* Using GPUs with TensorFlow(or TPUs)\n",
        "* Exercises to try for yourself"
      ],
      "metadata": {
        "id": "1kCnZ3oJNSU1"
      }
    },
    {
      "cell_type": "markdown",
      "source": [
        "## Introdoction to Tensors"
      ],
      "metadata": {
        "id": "xw98itEUpY9d"
      }
    },
    {
      "cell_type": "code",
      "source": [
        "# Import TensorFlow\n",
        "import tensorflow as tf\n",
        "print(tf.__version__)"
      ],
      "metadata": {
        "colab": {
          "base_uri": "https://localhost:8080/"
        },
        "id": "q_JDTnDiqCA5",
        "outputId": "32b5c5b3-ea7c-496b-e936-d7aa70a12891"
      },
      "execution_count": 1,
      "outputs": [
        {
          "output_type": "stream",
          "name": "stdout",
          "text": [
            "2.8.0\n"
          ]
        }
      ]
    },
    {
      "cell_type": "code",
      "source": [
        "# Create tensors with tf.constant()\n",
        "scalar = tf.constant(7)\n",
        "scalar"
      ],
      "metadata": {
        "colab": {
          "base_uri": "https://localhost:8080/"
        },
        "id": "GK8idT3eqVYR",
        "outputId": "304d0a42-c470-4644-c4b7-c1eafc2a0a32"
      },
      "execution_count": 2,
      "outputs": [
        {
          "output_type": "execute_result",
          "data": {
            "text/plain": [
              "<tf.Tensor: shape=(), dtype=int32, numpy=7>"
            ]
          },
          "metadata": {},
          "execution_count": 2
        }
      ]
    },
    {
      "cell_type": "code",
      "source": [
        "# Check the number of dimensions of a tensor (ndim stands for number of dimensions)\n",
        "scalar.ndim"
      ],
      "metadata": {
        "colab": {
          "base_uri": "https://localhost:8080/"
        },
        "id": "kiE_2XArqlNf",
        "outputId": "378b95aa-e1f5-47f2-bf30-de5c4a8a6106"
      },
      "execution_count": 3,
      "outputs": [
        {
          "output_type": "execute_result",
          "data": {
            "text/plain": [
              "0"
            ]
          },
          "metadata": {},
          "execution_count": 3
        }
      ]
    },
    {
      "cell_type": "code",
      "source": [
        "# Create a vector\n",
        "vector = tf.constant([10,10])\n",
        "vector"
      ],
      "metadata": {
        "colab": {
          "base_uri": "https://localhost:8080/"
        },
        "id": "VGkCxWGmrEXR",
        "outputId": "b8c04cef-f2ac-43a4-c71c-1b919431fd14"
      },
      "execution_count": 4,
      "outputs": [
        {
          "output_type": "execute_result",
          "data": {
            "text/plain": [
              "<tf.Tensor: shape=(2,), dtype=int32, numpy=array([10, 10], dtype=int32)>"
            ]
          },
          "metadata": {},
          "execution_count": 4
        }
      ]
    },
    {
      "cell_type": "code",
      "source": [
        "# Check the dimension of our vector\n",
        "vector.ndim"
      ],
      "metadata": {
        "colab": {
          "base_uri": "https://localhost:8080/"
        },
        "id": "BHk2xrB_rKuv",
        "outputId": "4360244f-d6e0-4f80-f339-c804cda23d96"
      },
      "execution_count": 5,
      "outputs": [
        {
          "output_type": "execute_result",
          "data": {
            "text/plain": [
              "1"
            ]
          },
          "metadata": {},
          "execution_count": 5
        }
      ]
    },
    {
      "cell_type": "code",
      "source": [
        "# Create a matrix (has more then 1 dimension)\n",
        "matrix = tf.constant([[10, 7],\n",
        "                     [7, 10]])\n",
        "matrix"
      ],
      "metadata": {
        "colab": {
          "base_uri": "https://localhost:8080/"
        },
        "id": "XWHE2C-2rR58",
        "outputId": "c130de6f-3fac-4880-a9c3-ec0187908e2a"
      },
      "execution_count": 6,
      "outputs": [
        {
          "output_type": "execute_result",
          "data": {
            "text/plain": [
              "<tf.Tensor: shape=(2, 2), dtype=int32, numpy=\n",
              "array([[10,  7],\n",
              "       [ 7, 10]], dtype=int32)>"
            ]
          },
          "metadata": {},
          "execution_count": 6
        }
      ]
    },
    {
      "cell_type": "code",
      "source": [
        "matrix.ndim"
      ],
      "metadata": {
        "colab": {
          "base_uri": "https://localhost:8080/"
        },
        "id": "WYysvYcardXF",
        "outputId": "81637d15-adae-4891-a1ef-9afcf6b72966"
      },
      "execution_count": 7,
      "outputs": [
        {
          "output_type": "execute_result",
          "data": {
            "text/plain": [
              "2"
            ]
          },
          "metadata": {},
          "execution_count": 7
        }
      ]
    },
    {
      "cell_type": "code",
      "source": [
        "# Create another matrix\n",
        "another_matrix = tf.constant([[10., 7.],\n",
        "                              [3., 2.],\n",
        "                              [8., 9.]], dtype=tf.float16) # specify the data type with dtype parameter\n",
        "                    \n",
        "another_matrix"
      ],
      "metadata": {
        "colab": {
          "base_uri": "https://localhost:8080/"
        },
        "id": "QOxF5zwSrjWo",
        "outputId": "8970b9c6-8cb0-4c01-96c3-ca9d166693f8"
      },
      "execution_count": 8,
      "outputs": [
        {
          "output_type": "execute_result",
          "data": {
            "text/plain": [
              "<tf.Tensor: shape=(3, 2), dtype=float16, numpy=\n",
              "array([[10.,  7.],\n",
              "       [ 3.,  2.],\n",
              "       [ 8.,  9.]], dtype=float16)>"
            ]
          },
          "metadata": {},
          "execution_count": 8
        }
      ]
    },
    {
      "cell_type": "code",
      "source": [
        "another_matrix.ndim"
      ],
      "metadata": {
        "colab": {
          "base_uri": "https://localhost:8080/"
        },
        "id": "AibNQO3esDcQ",
        "outputId": "5655f971-1a94-40f1-e659-bf0283e8ae91"
      },
      "execution_count": 9,
      "outputs": [
        {
          "output_type": "execute_result",
          "data": {
            "text/plain": [
              "2"
            ]
          },
          "metadata": {},
          "execution_count": 9
        }
      ]
    },
    {
      "cell_type": "code",
      "source": [
        "# Lets create a tensor\n",
        "tensor = tf.constant([[[1, 2, 3],\n",
        "                       [4, 5, 6]],\n",
        "                      [[7, 8, 9],\n",
        "                       [10, 11, 12]],\n",
        "                     [[13, 14, 15],\n",
        "                      [16, 17, 18]]])\n",
        "tensor"
      ],
      "metadata": {
        "colab": {
          "base_uri": "https://localhost:8080/"
        },
        "id": "0JopU34nr-sT",
        "outputId": "65a47ad2-caae-4f8e-e176-5af5bc073e92"
      },
      "execution_count": 10,
      "outputs": [
        {
          "output_type": "execute_result",
          "data": {
            "text/plain": [
              "<tf.Tensor: shape=(3, 2, 3), dtype=int32, numpy=\n",
              "array([[[ 1,  2,  3],\n",
              "        [ 4,  5,  6]],\n",
              "\n",
              "       [[ 7,  8,  9],\n",
              "        [10, 11, 12]],\n",
              "\n",
              "       [[13, 14, 15],\n",
              "        [16, 17, 18]]], dtype=int32)>"
            ]
          },
          "metadata": {},
          "execution_count": 10
        }
      ]
    },
    {
      "cell_type": "code",
      "source": [
        "tensor.ndim"
      ],
      "metadata": {
        "colab": {
          "base_uri": "https://localhost:8080/"
        },
        "id": "F80halbZsxNX",
        "outputId": "37d816ac-0c3d-43e8-a99e-2a6ee871a7d5"
      },
      "execution_count": 11,
      "outputs": [
        {
          "output_type": "execute_result",
          "data": {
            "text/plain": [
              "3"
            ]
          },
          "metadata": {},
          "execution_count": 11
        }
      ]
    },
    {
      "cell_type": "markdown",
      "source": [
        "What we have created so far:\n",
        "\n",
        "* Scalar: a single number\n",
        "* Vector: a number with direction (e.g. wind seed and direction)\n",
        "* Matrix: a 2-dimensional array of numbers\n",
        "* Tensor: an n-dimensional array of numbers (when n can be any number,a 0-dimension tensor is a scalar, a 1-dimensional tensor is a vector)"
      ],
      "metadata": {
        "id": "ACBMYbsItDIM"
      }
    },
    {
      "cell_type": "markdown",
      "source": [
        "### Creating tensors with tf.Variable"
      ],
      "metadata": {
        "id": "e1Fkh5r8tu6_"
      }
    },
    {
      "cell_type": "code",
      "source": [
        "from re import U\n",
        "# Create the same tensor with tf.Variable()  as above\n",
        "changeable_tensor = tf.Variable([10, 7])\n",
        "unchangeable_tensor = tf.constant([10, 7 ])\n",
        "changeable_tensor, unchangeable_tensor"
      ],
      "metadata": {
        "colab": {
          "base_uri": "https://localhost:8080/"
        },
        "id": "d7exwy_8yQrk",
        "outputId": "ede8847b-96a4-4f59-c163-66b2746f89c5"
      },
      "execution_count": 12,
      "outputs": [
        {
          "output_type": "execute_result",
          "data": {
            "text/plain": [
              "(<tf.Variable 'Variable:0' shape=(2,) dtype=int32, numpy=array([10,  7], dtype=int32)>,\n",
              " <tf.Tensor: shape=(2,), dtype=int32, numpy=array([10,  7], dtype=int32)>)"
            ]
          },
          "metadata": {},
          "execution_count": 12
        }
      ]
    },
    {
      "cell_type": "code",
      "source": [
        "# Lets try change one of the elements in our changeable tensor\n",
        "changeable_tensor[0] = 7\n",
        "changeable_tensor"
      ],
      "metadata": {
        "colab": {
          "base_uri": "https://localhost:8080/",
          "height": 200
        },
        "id": "50y8v9eMyvui",
        "outputId": "9eb46ecf-9a23-4c38-bea2-ab18ef48c31e"
      },
      "execution_count": 14,
      "outputs": [
        {
          "output_type": "error",
          "ename": "TypeError",
          "evalue": "ignored",
          "traceback": [
            "\u001b[0;31m---------------------------------------------------------------------------\u001b[0m",
            "\u001b[0;31mTypeError\u001b[0m                                 Traceback (most recent call last)",
            "\u001b[0;32m<ipython-input-14-fd537a2b0f7a>\u001b[0m in \u001b[0;36m<module>\u001b[0;34m()\u001b[0m\n\u001b[1;32m      1\u001b[0m \u001b[0;31m# Lets try change one of the elements in our changeable tensor\u001b[0m\u001b[0;34m\u001b[0m\u001b[0;34m\u001b[0m\u001b[0;34m\u001b[0m\u001b[0m\n\u001b[0;32m----> 2\u001b[0;31m \u001b[0mchangeable_tensor\u001b[0m\u001b[0;34m[\u001b[0m\u001b[0;36m0\u001b[0m\u001b[0;34m]\u001b[0m \u001b[0;34m=\u001b[0m \u001b[0;36m7\u001b[0m\u001b[0;34m\u001b[0m\u001b[0;34m\u001b[0m\u001b[0m\n\u001b[0m\u001b[1;32m      3\u001b[0m \u001b[0mchangeable_tensor\u001b[0m\u001b[0;34m\u001b[0m\u001b[0;34m\u001b[0m\u001b[0m\n",
            "\u001b[0;31mTypeError\u001b[0m: 'ResourceVariable' object does not support item assignment"
          ]
        }
      ]
    },
    {
      "cell_type": "code",
      "source": [
        "# How abouut we try .assign()\n",
        "changeable_tensor[0].assign(7)\n",
        "changeable_tensor"
      ],
      "metadata": {
        "colab": {
          "base_uri": "https://localhost:8080/"
        },
        "id": "W3oowlVNy9-h",
        "outputId": "7b3f527f-75c3-4300-eda2-9e4e24f74ddf"
      },
      "execution_count": 15,
      "outputs": [
        {
          "output_type": "execute_result",
          "data": {
            "text/plain": [
              "<tf.Variable 'Variable:0' shape=(2,) dtype=int32, numpy=array([7, 7], dtype=int32)>"
            ]
          },
          "metadata": {},
          "execution_count": 15
        }
      ]
    },
    {
      "cell_type": "code",
      "source": [
        "# Lets try change our unchangeale tensor\n",
        "unchangeable_tensor[0].assign(7)\n",
        "unchangeable_tensor"
      ],
      "metadata": {
        "colab": {
          "base_uri": "https://localhost:8080/",
          "height": 321
        },
        "id": "sMUakv13zGvF",
        "outputId": "f4e29848-13cf-45e8-de4c-21b604e7d43d"
      },
      "execution_count": 16,
      "outputs": [
        {
          "output_type": "error",
          "ename": "AttributeError",
          "evalue": "ignored",
          "traceback": [
            "\u001b[0;31m---------------------------------------------------------------------------\u001b[0m",
            "\u001b[0;31mAttributeError\u001b[0m                            Traceback (most recent call last)",
            "\u001b[0;32m<ipython-input-16-fd2bdcb14750>\u001b[0m in \u001b[0;36m<module>\u001b[0;34m()\u001b[0m\n\u001b[1;32m      1\u001b[0m \u001b[0;31m# Lets try change our unchangeale tensor\u001b[0m\u001b[0;34m\u001b[0m\u001b[0;34m\u001b[0m\u001b[0;34m\u001b[0m\u001b[0m\n\u001b[0;32m----> 2\u001b[0;31m \u001b[0munchangeable_tensor\u001b[0m\u001b[0;34m[\u001b[0m\u001b[0;36m0\u001b[0m\u001b[0;34m]\u001b[0m\u001b[0;34m.\u001b[0m\u001b[0massign\u001b[0m\u001b[0;34m(\u001b[0m\u001b[0;36m7\u001b[0m\u001b[0;34m)\u001b[0m\u001b[0;34m\u001b[0m\u001b[0;34m\u001b[0m\u001b[0m\n\u001b[0m\u001b[1;32m      3\u001b[0m \u001b[0munchangeable_tensor\u001b[0m\u001b[0;34m\u001b[0m\u001b[0;34m\u001b[0m\u001b[0m\n",
            "\u001b[0;32m/usr/local/lib/python3.7/dist-packages/tensorflow/python/framework/ops.py\u001b[0m in \u001b[0;36m__getattr__\u001b[0;34m(self, name)\u001b[0m\n\u001b[1;32m    511\u001b[0m         \u001b[0;32mfrom\u001b[0m \u001b[0mtensorflow\u001b[0m\u001b[0;34m.\u001b[0m\u001b[0mpython\u001b[0m\u001b[0;34m.\u001b[0m\u001b[0mops\u001b[0m\u001b[0;34m.\u001b[0m\u001b[0mnumpy_ops\u001b[0m \u001b[0;32mimport\u001b[0m \u001b[0mnp_config\u001b[0m\u001b[0;34m\u001b[0m\u001b[0;34m\u001b[0m\u001b[0m\n\u001b[1;32m    512\u001b[0m         np_config.enable_numpy_behavior()\"\"\".format(type(self).__name__, name))\n\u001b[0;32m--> 513\u001b[0;31m     \u001b[0mself\u001b[0m\u001b[0;34m.\u001b[0m\u001b[0m__getattribute__\u001b[0m\u001b[0;34m(\u001b[0m\u001b[0mname\u001b[0m\u001b[0;34m)\u001b[0m\u001b[0;34m\u001b[0m\u001b[0;34m\u001b[0m\u001b[0m\n\u001b[0m\u001b[1;32m    514\u001b[0m \u001b[0;34m\u001b[0m\u001b[0m\n\u001b[1;32m    515\u001b[0m   \u001b[0;34m@\u001b[0m\u001b[0mstaticmethod\u001b[0m\u001b[0;34m\u001b[0m\u001b[0;34m\u001b[0m\u001b[0m\n",
            "\u001b[0;31mAttributeError\u001b[0m: 'tensorflow.python.framework.ops.EagerTensor' object has no attribute 'assign'"
          ]
        }
      ]
    },
    {
      "cell_type": "markdown",
      "source": [
        "🔑 **Note**: Rarely in practice you will need to decide whether to use *tf.constant* or *tf.Variable* to create tensors, as TensorFlow dows this for you. However, if in doubt, use tf.constant and change it later if needed."
      ],
      "metadata": {
        "id": "OYcy8gp5zmBg"
      }
    },
    {
      "cell_type": "markdown",
      "source": [
        "### Creating random tensors\n",
        "\n",
        "Random tenstors are tensors of some abitary (proizvoljan) size which contain random numbers."
      ],
      "metadata": {
        "id": "N2GqnixizXLQ"
      }
    },
    {
      "cell_type": "code",
      "source": [
        "# Create two random (but the same) tensors\n",
        "random_1 = tf.random.Generator.from_seed(42) # set seed for reproducibility\n",
        "random_1 = random_1.normal(shape=(3,2))\n",
        "random_2 = tf.random.Generator.from_seed(42)\n",
        "random_2 = random_2.normal(shape=(3,2))\n",
        "\n",
        "# Are they equal?\n",
        "random_1, random_2, random_1 == random_2"
      ],
      "metadata": {
        "colab": {
          "base_uri": "https://localhost:8080/"
        },
        "id": "Rd1Unca_zgNN",
        "outputId": "419c533e-34e5-44fb-b607-1c845aa87c7e"
      },
      "execution_count": 17,
      "outputs": [
        {
          "output_type": "execute_result",
          "data": {
            "text/plain": [
              "(<tf.Tensor: shape=(3, 2), dtype=float32, numpy=\n",
              " array([[-0.7565803 , -0.06854702],\n",
              "        [ 0.07595026, -1.2573844 ],\n",
              "        [-0.23193763, -1.8107855 ]], dtype=float32)>,\n",
              " <tf.Tensor: shape=(3, 2), dtype=float32, numpy=\n",
              " array([[-0.7565803 , -0.06854702],\n",
              "        [ 0.07595026, -1.2573844 ],\n",
              "        [-0.23193763, -1.8107855 ]], dtype=float32)>,\n",
              " <tf.Tensor: shape=(3, 2), dtype=bool, numpy=\n",
              " array([[ True,  True],\n",
              "        [ True,  True],\n",
              "        [ True,  True]])>)"
            ]
          },
          "metadata": {},
          "execution_count": 17
        }
      ]
    },
    {
      "cell_type": "markdown",
      "source": [
        "### Shuffle the order of elements of a tensor"
      ],
      "metadata": {
        "id": "K1U-UT4m1TOM"
      }
    },
    {
      "cell_type": "code",
      "source": [
        "# Shuffle a tensor (valuable for when you want to shuffle your data so the inherent order doesnt effect learning)\n",
        "not_shuffled = tf.constant([[10, 7],\n",
        "                            [3, 4],\n",
        "                            [2, 5]])\n",
        "not_shuffled.ndim"
      ],
      "metadata": {
        "colab": {
          "base_uri": "https://localhost:8080/"
        },
        "id": "yiZwiP1fIV5J",
        "outputId": "c69098e3-822b-494d-eb45-84d69ec364a5"
      },
      "execution_count": 18,
      "outputs": [
        {
          "output_type": "execute_result",
          "data": {
            "text/plain": [
              "2"
            ]
          },
          "metadata": {},
          "execution_count": 18
        }
      ]
    },
    {
      "cell_type": "code",
      "source": [
        "not_shuffled"
      ],
      "metadata": {
        "colab": {
          "base_uri": "https://localhost:8080/"
        },
        "id": "XmYVuYtBImzJ",
        "outputId": "50418be9-05a7-4ddd-aea0-b7ccbc9bd548"
      },
      "execution_count": 19,
      "outputs": [
        {
          "output_type": "execute_result",
          "data": {
            "text/plain": [
              "<tf.Tensor: shape=(3, 2), dtype=int32, numpy=\n",
              "array([[10,  7],\n",
              "       [ 3,  4],\n",
              "       [ 2,  5]], dtype=int32)>"
            ]
          },
          "metadata": {},
          "execution_count": 19
        }
      ]
    },
    {
      "cell_type": "code",
      "source": [
        "# Shuffle our non-shuffled tensor\n",
        "tf.random.shuffle(not_shuffled) # ispremestani su po prvoj dimenziji"
      ],
      "metadata": {
        "colab": {
          "base_uri": "https://localhost:8080/"
        },
        "id": "bLfgiFayI09G",
        "outputId": "05ef5a6f-8b18-4ded-c6e6-80b188c944f2"
      },
      "execution_count": 20,
      "outputs": [
        {
          "output_type": "execute_result",
          "data": {
            "text/plain": [
              "<tf.Tensor: shape=(3, 2), dtype=int32, numpy=\n",
              "array([[ 3,  4],\n",
              "       [ 2,  5],\n",
              "       [10,  7]], dtype=int32)>"
            ]
          },
          "metadata": {},
          "execution_count": 20
        }
      ]
    },
    {
      "cell_type": "code",
      "source": [
        "tf.random.set_seed(42)\n",
        " "
      ],
      "metadata": {
        "id": "Hvz3GmrPJH2A"
      },
      "execution_count": 21,
      "outputs": []
    },
    {
      "cell_type": "code",
      "source": [
        "# Ovo ne radi\n",
        "tf.random.shuffle(not_shuffled, seed=42)"
      ],
      "metadata": {
        "colab": {
          "base_uri": "https://localhost:8080/"
        },
        "id": "oe1vOr4kJjIR",
        "outputId": "eb45b232-f3e3-438c-baeb-be7f69d0593f"
      },
      "execution_count": 22,
      "outputs": [
        {
          "output_type": "execute_result",
          "data": {
            "text/plain": [
              "<tf.Tensor: shape=(3, 2), dtype=int32, numpy=\n",
              "array([[10,  7],\n",
              "       [ 3,  4],\n",
              "       [ 2,  5]], dtype=int32)>"
            ]
          },
          "metadata": {},
          "execution_count": 22
        }
      ]
    },
    {
      "cell_type": "markdown",
      "source": [
        "🔨 **Exercise**: Read through TensorFlow documentation on random seed generation: https://www.tensorflow.org/api_docs/python/tf/random/set_seed and practice writing 5 rarndom tensors and shuffle them. "
      ],
      "metadata": {
        "id": "9gl3_awbJnX_"
      }
    },
    {
      "cell_type": "code",
      "source": [
        "print(tf.random.uniform([1]))  # generates 'A1'\n",
        "print(tf.random.uniform([1]))  # generates 'A2'"
      ],
      "metadata": {
        "colab": {
          "base_uri": "https://localhost:8080/"
        },
        "id": "IAumPreTKXlC",
        "outputId": "b4ced0b8-b204-4823-895c-84eae7fe35de"
      },
      "execution_count": 23,
      "outputs": [
        {
          "output_type": "stream",
          "name": "stdout",
          "text": [
            "tf.Tensor([0.6645621], shape=(1,), dtype=float32)\n",
            "tf.Tensor([0.68789124], shape=(1,), dtype=float32)\n"
          ]
        }
      ]
    },
    {
      "cell_type": "code",
      "source": [
        "print(tf.random.uniform([1]))  # generates 'A1'\n",
        "print(tf.random.uniform([1]))  # generates 'A2'"
      ],
      "metadata": {
        "colab": {
          "base_uri": "https://localhost:8080/"
        },
        "id": "A7uKz0DYLM91",
        "outputId": "13a71bed-dd91-4335-d1ee-2b0dbf92d5b5"
      },
      "execution_count": 24,
      "outputs": [
        {
          "output_type": "stream",
          "name": "stdout",
          "text": [
            "tf.Tensor([0.7413678], shape=(1,), dtype=float32)\n",
            "tf.Tensor([0.7402308], shape=(1,), dtype=float32)\n"
          ]
        }
      ]
    },
    {
      "cell_type": "code",
      "source": [
        "tf.random.set_seed(1234)\n",
        "print(tf.random.uniform([1]))  # generates 'A1'\n",
        "print(tf.random.uniform([1]))  # generates 'A2'"
      ],
      "metadata": {
        "colab": {
          "base_uri": "https://localhost:8080/"
        },
        "id": "7hoVkTbcLO3j",
        "outputId": "783f50dc-1a0c-4eed-a26c-3133739519e6"
      },
      "execution_count": 25,
      "outputs": [
        {
          "output_type": "stream",
          "name": "stdout",
          "text": [
            "tf.Tensor([0.5380393], shape=(1,), dtype=float32)\n",
            "tf.Tensor([0.3253647], shape=(1,), dtype=float32)\n"
          ]
        }
      ]
    },
    {
      "cell_type": "code",
      "source": [
        "print(tf.random.uniform([1], seed=1))  # generates 'A1'\n",
        "print(tf.random.uniform([1], seed=1))  # generates 'A2'"
      ],
      "metadata": {
        "colab": {
          "base_uri": "https://localhost:8080/"
        },
        "id": "fQZiwQ6SLU8Z",
        "outputId": "d276d1cc-3f01-4b96-d83e-08a298eefd98"
      },
      "execution_count": 26,
      "outputs": [
        {
          "output_type": "stream",
          "name": "stdout",
          "text": [
            "tf.Tensor([0.1689806], shape=(1,), dtype=float32)\n",
            "tf.Tensor([0.7539084], shape=(1,), dtype=float32)\n"
          ]
        }
      ]
    },
    {
      "cell_type": "code",
      "source": [
        "tf.random.set_seed(1234)\n",
        "print(tf.random.uniform([1], seed=1))  # generates 'A1'\n",
        "print(tf.random.uniform([1], seed=1))  # generates 'A2'\n",
        "tf.random.set_seed(1234)\n",
        "print(tf.random.uniform([1], seed=1))  # generates 'A1'\n",
        "print(tf.random.uniform([1], seed=1))  # generates 'A2'"
      ],
      "metadata": {
        "colab": {
          "base_uri": "https://localhost:8080/"
        },
        "id": "D9wFS4N1Lkiu",
        "outputId": "8e03e1a3-929f-4f08-e059-bb6a532c221c"
      },
      "execution_count": 27,
      "outputs": [
        {
          "output_type": "stream",
          "name": "stdout",
          "text": [
            "tf.Tensor([0.1689806], shape=(1,), dtype=float32)\n",
            "tf.Tensor([0.7539084], shape=(1,), dtype=float32)\n",
            "tf.Tensor([0.1689806], shape=(1,), dtype=float32)\n",
            "tf.Tensor([0.7539084], shape=(1,), dtype=float32)\n"
          ]
        }
      ]
    },
    {
      "cell_type": "code",
      "source": [
        "@tf.function\n",
        "def foo():\n",
        "  a = tf.random.uniform([1], seed=1)\n",
        "  b = tf.random.uniform([1], seed=1)\n",
        "  return a, b\n",
        "print(foo())  # prints '(A1, A1)'\n",
        "print(foo())  # prints '(A2, A2)'\n",
        "\n",
        "@tf.function\n",
        "def bar():\n",
        "  a = tf.random.uniform([1])\n",
        "  b = tf.random.uniform([1])\n",
        "  return a, b\n",
        "print(bar())  # prints '(A1, A2)'\n",
        "print(bar())  # prints '(A3, A4)'"
      ],
      "metadata": {
        "colab": {
          "base_uri": "https://localhost:8080/"
        },
        "id": "KrNjrcuYLukw",
        "outputId": "9a236231-19e2-41bb-df52-42b12ed9d967"
      },
      "execution_count": 28,
      "outputs": [
        {
          "output_type": "stream",
          "name": "stdout",
          "text": [
            "(<tf.Tensor: shape=(1,), dtype=float32, numpy=array([0.1689806], dtype=float32)>, <tf.Tensor: shape=(1,), dtype=float32, numpy=array([0.1689806], dtype=float32)>)\n",
            "(<tf.Tensor: shape=(1,), dtype=float32, numpy=array([0.7539084], dtype=float32)>, <tf.Tensor: shape=(1,), dtype=float32, numpy=array([0.7539084], dtype=float32)>)\n",
            "(<tf.Tensor: shape=(1,), dtype=float32, numpy=array([0.13047123], dtype=float32)>, <tf.Tensor: shape=(1,), dtype=float32, numpy=array([0.1689806], dtype=float32)>)\n",
            "(<tf.Tensor: shape=(1,), dtype=float32, numpy=array([0.6087816], dtype=float32)>, <tf.Tensor: shape=(1,), dtype=float32, numpy=array([0.7539084], dtype=float32)>)\n"
          ]
        }
      ]
    },
    {
      "cell_type": "code",
      "source": [
        "tf.random.set_seed(42) # global level random seed\n",
        "tf.random.shuffle(not_shuffled, seed=42) # operation level random seed"
      ],
      "metadata": {
        "colab": {
          "base_uri": "https://localhost:8080/"
        },
        "id": "_n3bw85FL-4V",
        "outputId": "547097df-5b2a-4126-fa4e-85d1f005b3b0"
      },
      "execution_count": 29,
      "outputs": [
        {
          "output_type": "execute_result",
          "data": {
            "text/plain": [
              "<tf.Tensor: shape=(3, 2), dtype=int32, numpy=\n",
              "array([[10,  7],\n",
              "       [ 3,  4],\n",
              "       [ 2,  5]], dtype=int32)>"
            ]
          },
          "metadata": {},
          "execution_count": 29
        }
      ]
    },
    {
      "cell_type": "markdown",
      "source": [
        "It looks live if we want our shuffled tensors to be in the same order, we have got to use the global level random seed as well as the operation level random seed:\n",
        "\n",
        ">Rule 4: If both the global and the operation seed are set: Both seeds are used in conjunction to determine the random sequence."
      ],
      "metadata": {
        "id": "k-70tGFROlKu"
      }
    },
    {
      "cell_type": "markdown",
      "source": [
        "### Other ways to make tensors"
      ],
      "metadata": {
        "id": "4YkCCnGzO-4u"
      }
    },
    {
      "cell_type": "code",
      "source": [
        "# Create a tensor of all ones\n",
        "tf.ones([10, 7])"
      ],
      "metadata": {
        "colab": {
          "base_uri": "https://localhost:8080/"
        },
        "id": "I8lZmcvMPJ31",
        "outputId": "e9aebed7-6179-4e98-84e3-c16a2ec42e51"
      },
      "execution_count": 30,
      "outputs": [
        {
          "output_type": "execute_result",
          "data": {
            "text/plain": [
              "<tf.Tensor: shape=(10, 7), dtype=float32, numpy=\n",
              "array([[1., 1., 1., 1., 1., 1., 1.],\n",
              "       [1., 1., 1., 1., 1., 1., 1.],\n",
              "       [1., 1., 1., 1., 1., 1., 1.],\n",
              "       [1., 1., 1., 1., 1., 1., 1.],\n",
              "       [1., 1., 1., 1., 1., 1., 1.],\n",
              "       [1., 1., 1., 1., 1., 1., 1.],\n",
              "       [1., 1., 1., 1., 1., 1., 1.],\n",
              "       [1., 1., 1., 1., 1., 1., 1.],\n",
              "       [1., 1., 1., 1., 1., 1., 1.],\n",
              "       [1., 1., 1., 1., 1., 1., 1.]], dtype=float32)>"
            ]
          },
          "metadata": {},
          "execution_count": 30
        }
      ]
    },
    {
      "cell_type": "code",
      "source": [
        "# Create a tensor of all zeors\n",
        "tf.zeros(shape=(3,4))"
      ],
      "metadata": {
        "colab": {
          "base_uri": "https://localhost:8080/"
        },
        "id": "RT-mfmmSPWB6",
        "outputId": "65165979-8f13-4c3c-97fa-12571561039f"
      },
      "execution_count": 31,
      "outputs": [
        {
          "output_type": "execute_result",
          "data": {
            "text/plain": [
              "<tf.Tensor: shape=(3, 4), dtype=float32, numpy=\n",
              "array([[0., 0., 0., 0.],\n",
              "       [0., 0., 0., 0.],\n",
              "       [0., 0., 0., 0.]], dtype=float32)>"
            ]
          },
          "metadata": {},
          "execution_count": 31
        }
      ]
    },
    {
      "cell_type": "markdown",
      "source": [
        "### Turn NumPy arrays into tensors\n",
        "\n",
        "The main difference between NumPy arrays and TensorFlow tensors is that tensors can be run on a GPU (much faster for numerical computing)."
      ],
      "metadata": {
        "id": "QhRBO652Phi5"
      }
    },
    {
      "cell_type": "code",
      "source": [
        "# You can turn NumPy arrays into tensors\n",
        "import numpy as np\n",
        "numpy_A = np.arange(1,25, dtype=np.int32) # create a NumPy array between 1 and 25\n",
        "numpy_A\n",
        "\n",
        "#X = tf.constat(some_matrix) # capital for matrix or tensor\n",
        "#y = tf.constat(vector) # non-capital for vector"
      ],
      "metadata": {
        "colab": {
          "base_uri": "https://localhost:8080/"
        },
        "id": "FF8Hxi42PcIA",
        "outputId": "dd8229b3-f3da-45dd-b941-8cd0789e51e1"
      },
      "execution_count": 32,
      "outputs": [
        {
          "output_type": "execute_result",
          "data": {
            "text/plain": [
              "array([ 1,  2,  3,  4,  5,  6,  7,  8,  9, 10, 11, 12, 13, 14, 15, 16, 17,\n",
              "       18, 19, 20, 21, 22, 23, 24], dtype=int32)"
            ]
          },
          "metadata": {},
          "execution_count": 32
        }
      ]
    },
    {
      "cell_type": "code",
      "source": [
        "A = tf.constant(numpy_A)\n",
        "A"
      ],
      "metadata": {
        "colab": {
          "base_uri": "https://localhost:8080/"
        },
        "id": "Vg_brocqQK5v",
        "outputId": "c0432b81-cd6d-421d-8ebc-c169efa2e77a"
      },
      "execution_count": 33,
      "outputs": [
        {
          "output_type": "execute_result",
          "data": {
            "text/plain": [
              "<tf.Tensor: shape=(24,), dtype=int32, numpy=\n",
              "array([ 1,  2,  3,  4,  5,  6,  7,  8,  9, 10, 11, 12, 13, 14, 15, 16, 17,\n",
              "       18, 19, 20, 21, 22, 23, 24], dtype=int32)>"
            ]
          },
          "metadata": {},
          "execution_count": 33
        }
      ]
    },
    {
      "cell_type": "code",
      "source": [
        "A = tf.constant(numpy_A, shape=(2,3,4))\n",
        "A"
      ],
      "metadata": {
        "colab": {
          "base_uri": "https://localhost:8080/"
        },
        "id": "WnTLXQEFQgPo",
        "outputId": "6675efa4-3dcd-400a-f0ba-38367cab2c38"
      },
      "execution_count": 34,
      "outputs": [
        {
          "output_type": "execute_result",
          "data": {
            "text/plain": [
              "<tf.Tensor: shape=(2, 3, 4), dtype=int32, numpy=\n",
              "array([[[ 1,  2,  3,  4],\n",
              "        [ 5,  6,  7,  8],\n",
              "        [ 9, 10, 11, 12]],\n",
              "\n",
              "       [[13, 14, 15, 16],\n",
              "        [17, 18, 19, 20],\n",
              "        [21, 22, 23, 24]]], dtype=int32)>"
            ]
          },
          "metadata": {},
          "execution_count": 34
        }
      ]
    },
    {
      "cell_type": "code",
      "source": [
        "2*3*4 # mora se poklapati sa brojem elemenata od objekta kome se menja shape sa dimenzijama shape-a"
      ],
      "metadata": {
        "colab": {
          "base_uri": "https://localhost:8080/"
        },
        "id": "CNzo1z_DQpQZ",
        "outputId": "d54bfe02-fd7c-4795-8115-fc0d5a810058"
      },
      "execution_count": 35,
      "outputs": [
        {
          "output_type": "execute_result",
          "data": {
            "text/plain": [
              "24"
            ]
          },
          "metadata": {},
          "execution_count": 35
        }
      ]
    },
    {
      "cell_type": "code",
      "source": [
        "B = tf.constant(numpy_A)\n",
        "B"
      ],
      "metadata": {
        "colab": {
          "base_uri": "https://localhost:8080/"
        },
        "id": "gh4xPhioQq8a",
        "outputId": "a9bb6ede-3a53-413f-ddbf-569e7236238c"
      },
      "execution_count": 36,
      "outputs": [
        {
          "output_type": "execute_result",
          "data": {
            "text/plain": [
              "<tf.Tensor: shape=(24,), dtype=int32, numpy=\n",
              "array([ 1,  2,  3,  4,  5,  6,  7,  8,  9, 10, 11, 12, 13, 14, 15, 16, 17,\n",
              "       18, 19, 20, 21, 22, 23, 24], dtype=int32)>"
            ]
          },
          "metadata": {},
          "execution_count": 36
        }
      ]
    },
    {
      "cell_type": "markdown",
      "source": [
        "### Getting information from tensors\n",
        "\n",
        "When dealing with tensors you probably want to be aware of the following attributes:\n",
        "* Shape\n",
        "* Rank\n",
        "* Axis or dimension\n",
        "* Size"
      ],
      "metadata": {
        "id": "qTyXy7OgQyXT"
      }
    },
    {
      "cell_type": "code",
      "source": [
        "# Create a rank 4 tensor (4 dimensions)\n",
        "rank_4_tensor = tf.zeros(shape=[2, 3, 4, 5])\n",
        "rank_4_tensor"
      ],
      "metadata": {
        "colab": {
          "base_uri": "https://localhost:8080/"
        },
        "id": "cZtBGK8kRXJx",
        "outputId": "fd047352-fa51-46d5-b092-7d06c2f46c55"
      },
      "execution_count": 37,
      "outputs": [
        {
          "output_type": "execute_result",
          "data": {
            "text/plain": [
              "<tf.Tensor: shape=(2, 3, 4, 5), dtype=float32, numpy=\n",
              "array([[[[0., 0., 0., 0., 0.],\n",
              "         [0., 0., 0., 0., 0.],\n",
              "         [0., 0., 0., 0., 0.],\n",
              "         [0., 0., 0., 0., 0.]],\n",
              "\n",
              "        [[0., 0., 0., 0., 0.],\n",
              "         [0., 0., 0., 0., 0.],\n",
              "         [0., 0., 0., 0., 0.],\n",
              "         [0., 0., 0., 0., 0.]],\n",
              "\n",
              "        [[0., 0., 0., 0., 0.],\n",
              "         [0., 0., 0., 0., 0.],\n",
              "         [0., 0., 0., 0., 0.],\n",
              "         [0., 0., 0., 0., 0.]]],\n",
              "\n",
              "\n",
              "       [[[0., 0., 0., 0., 0.],\n",
              "         [0., 0., 0., 0., 0.],\n",
              "         [0., 0., 0., 0., 0.],\n",
              "         [0., 0., 0., 0., 0.]],\n",
              "\n",
              "        [[0., 0., 0., 0., 0.],\n",
              "         [0., 0., 0., 0., 0.],\n",
              "         [0., 0., 0., 0., 0.],\n",
              "         [0., 0., 0., 0., 0.]],\n",
              "\n",
              "        [[0., 0., 0., 0., 0.],\n",
              "         [0., 0., 0., 0., 0.],\n",
              "         [0., 0., 0., 0., 0.],\n",
              "         [0., 0., 0., 0., 0.]]]], dtype=float32)>"
            ]
          },
          "metadata": {},
          "execution_count": 37
        }
      ]
    },
    {
      "cell_type": "code",
      "source": [
        "rank_4_tensor[0]"
      ],
      "metadata": {
        "colab": {
          "base_uri": "https://localhost:8080/"
        },
        "id": "jL8rInKpjkkd",
        "outputId": "28430a37-83d9-45cd-85d5-db0210212075"
      },
      "execution_count": 38,
      "outputs": [
        {
          "output_type": "execute_result",
          "data": {
            "text/plain": [
              "<tf.Tensor: shape=(3, 4, 5), dtype=float32, numpy=\n",
              "array([[[0., 0., 0., 0., 0.],\n",
              "        [0., 0., 0., 0., 0.],\n",
              "        [0., 0., 0., 0., 0.],\n",
              "        [0., 0., 0., 0., 0.]],\n",
              "\n",
              "       [[0., 0., 0., 0., 0.],\n",
              "        [0., 0., 0., 0., 0.],\n",
              "        [0., 0., 0., 0., 0.],\n",
              "        [0., 0., 0., 0., 0.]],\n",
              "\n",
              "       [[0., 0., 0., 0., 0.],\n",
              "        [0., 0., 0., 0., 0.],\n",
              "        [0., 0., 0., 0., 0.],\n",
              "        [0., 0., 0., 0., 0.]]], dtype=float32)>"
            ]
          },
          "metadata": {},
          "execution_count": 38
        }
      ]
    },
    {
      "cell_type": "code",
      "source": [
        "rank_4_tensor.shape, rank_4_tensor.ndim, tf.size(rank_4_tensor)"
      ],
      "metadata": {
        "colab": {
          "base_uri": "https://localhost:8080/"
        },
        "id": "e87VowtljzU6",
        "outputId": "2be7a506-a2fe-454c-dd87-8be816a5bb9b"
      },
      "execution_count": 39,
      "outputs": [
        {
          "output_type": "execute_result",
          "data": {
            "text/plain": [
              "(TensorShape([2, 3, 4, 5]), 4, <tf.Tensor: shape=(), dtype=int32, numpy=120>)"
            ]
          },
          "metadata": {},
          "execution_count": 39
        }
      ]
    },
    {
      "cell_type": "code",
      "source": [
        "2*3*4*5"
      ],
      "metadata": {
        "colab": {
          "base_uri": "https://localhost:8080/"
        },
        "id": "s3p8qvgDkD3Y",
        "outputId": "8e27056d-f087-48f0-dc5e-cbbe791f82fe"
      },
      "execution_count": 40,
      "outputs": [
        {
          "output_type": "execute_result",
          "data": {
            "text/plain": [
              "120"
            ]
          },
          "metadata": {},
          "execution_count": 40
        }
      ]
    },
    {
      "cell_type": "code",
      "source": [
        "from tensorflow.python.ops.gen_array_ops import rank\n",
        "# Get various attributes of our tensor\n",
        "print(\"Datatype of every element:\", rank_4_tensor.dtype)\n",
        "print(\"Number of dimensions (rank):\", rank_4_tensor.ndim)\n",
        "print(\"Shape of tensor:\", rank_4_tensor.shape)\n",
        "print(\"Elements along the 0 axis:\", rank_4_tensor.shape[0])\n",
        "print(\"Elements along the last axis:\", rank_4_tensor.shape[-1])\n",
        "print(\"Total number of elements in our tensor:\", tf.size(rank_4_tensor))\n",
        "print(\"Total number of elements in our tensor:\", tf.size(rank_4_tensor).numpy())"
      ],
      "metadata": {
        "colab": {
          "base_uri": "https://localhost:8080/"
        },
        "id": "7noEnAO4kG0I",
        "outputId": "2712eea5-47df-4e3f-944a-70619207cd1c"
      },
      "execution_count": 41,
      "outputs": [
        {
          "output_type": "stream",
          "name": "stdout",
          "text": [
            "Datatype of every element: <dtype: 'float32'>\n",
            "Number of dimensions (rank): 4\n",
            "Shape of tensor: (2, 3, 4, 5)\n",
            "Elements along the 0 axis: 2\n",
            "Elements along the last axis: 5\n",
            "Total number of elements in our tensor: tf.Tensor(120, shape=(), dtype=int32)\n",
            "Total number of elements in our tensor: 120\n"
          ]
        }
      ]
    },
    {
      "cell_type": "markdown",
      "source": [
        "### Indexing tensors\n",
        "\n",
        "Tensors can be indexed just like Python lists."
      ],
      "metadata": {
        "id": "0upet48Rk1dQ"
      }
    },
    {
      "cell_type": "code",
      "source": [
        "# Get the first 2 elements of each dimension\n",
        "\n",
        "rank_4_tensor[:2, :2, :2, :2]"
      ],
      "metadata": {
        "colab": {
          "base_uri": "https://localhost:8080/"
        },
        "id": "mqhQS7EIkf6a",
        "outputId": "a25b2b18-117f-4bf3-fa5a-0083508ad6c5"
      },
      "execution_count": 42,
      "outputs": [
        {
          "output_type": "execute_result",
          "data": {
            "text/plain": [
              "<tf.Tensor: shape=(2, 2, 2, 2), dtype=float32, numpy=\n",
              "array([[[[0., 0.],\n",
              "         [0., 0.]],\n",
              "\n",
              "        [[0., 0.],\n",
              "         [0., 0.]]],\n",
              "\n",
              "\n",
              "       [[[0., 0.],\n",
              "         [0., 0.]],\n",
              "\n",
              "        [[0., 0.],\n",
              "         [0., 0.]]]], dtype=float32)>"
            ]
          },
          "metadata": {},
          "execution_count": 42
        }
      ]
    },
    {
      "cell_type": "code",
      "source": [
        "# Get the first element from each dimension from each index except for the final one\n",
        "rank_4_tensor[:1, :1, :1] "
      ],
      "metadata": {
        "colab": {
          "base_uri": "https://localhost:8080/"
        },
        "id": "knSF4c8dkpiR",
        "outputId": "b268236b-7d0d-4e5a-d5ea-45513aa63661"
      },
      "execution_count": 43,
      "outputs": [
        {
          "output_type": "execute_result",
          "data": {
            "text/plain": [
              "<tf.Tensor: shape=(1, 1, 1, 5), dtype=float32, numpy=array([[[[0., 0., 0., 0., 0.]]]], dtype=float32)>"
            ]
          },
          "metadata": {},
          "execution_count": 43
        }
      ]
    },
    {
      "cell_type": "code",
      "source": [
        "# Get the first element from each dimension from each index except for the final one\n",
        "rank_4_tensor[:1, :1, :1, :] "
      ],
      "metadata": {
        "colab": {
          "base_uri": "https://localhost:8080/"
        },
        "id": "2Z9vAyoMlQvG",
        "outputId": "54b34c15-6746-48f2-ab9b-6b4957fd535f"
      },
      "execution_count": 44,
      "outputs": [
        {
          "output_type": "execute_result",
          "data": {
            "text/plain": [
              "<tf.Tensor: shape=(1, 1, 1, 5), dtype=float32, numpy=array([[[[0., 0., 0., 0., 0.]]]], dtype=float32)>"
            ]
          },
          "metadata": {},
          "execution_count": 44
        }
      ]
    },
    {
      "cell_type": "code",
      "source": [
        "rank_4_tensor[:1, :, :1, :1] "
      ],
      "metadata": {
        "colab": {
          "base_uri": "https://localhost:8080/"
        },
        "id": "Ov43twKylV02",
        "outputId": "9ddf6556-2487-4223-cf57-aa5e0cf74311"
      },
      "execution_count": 45,
      "outputs": [
        {
          "output_type": "execute_result",
          "data": {
            "text/plain": [
              "<tf.Tensor: shape=(1, 3, 1, 1), dtype=float32, numpy=\n",
              "array([[[[0.]],\n",
              "\n",
              "        [[0.]],\n",
              "\n",
              "        [[0.]]]], dtype=float32)>"
            ]
          },
          "metadata": {},
          "execution_count": 45
        }
      ]
    },
    {
      "cell_type": "code",
      "source": [
        "# Create a rank 2 tensor (2 dimensions)\n",
        "rank_2_tensor = tf.constant([[10, 7],\n",
        "                            [3, 4]])\n",
        "rank_2_tensor.shape, rank_2_tensor.ndim"
      ],
      "metadata": {
        "colab": {
          "base_uri": "https://localhost:8080/"
        },
        "id": "E_iiOMFJljDn",
        "outputId": "72ea595f-14df-4145-8d83-1fb4bb4a1616"
      },
      "execution_count": 46,
      "outputs": [
        {
          "output_type": "execute_result",
          "data": {
            "text/plain": [
              "(TensorShape([2, 2]), 2)"
            ]
          },
          "metadata": {},
          "execution_count": 46
        }
      ]
    },
    {
      "cell_type": "code",
      "source": [
        "rank_2_tensor"
      ],
      "metadata": {
        "colab": {
          "base_uri": "https://localhost:8080/"
        },
        "id": "CZebU_Nxlx5N",
        "outputId": "f5735242-4254-438f-c070-50bc63486cdf"
      },
      "execution_count": 47,
      "outputs": [
        {
          "output_type": "execute_result",
          "data": {
            "text/plain": [
              "<tf.Tensor: shape=(2, 2), dtype=int32, numpy=\n",
              "array([[10,  7],\n",
              "       [ 3,  4]], dtype=int32)>"
            ]
          },
          "metadata": {},
          "execution_count": 47
        }
      ]
    },
    {
      "cell_type": "code",
      "source": [
        "some_list = [1,2,3,4]\n",
        "some_list, some_list[-1]"
      ],
      "metadata": {
        "colab": {
          "base_uri": "https://localhost:8080/"
        },
        "id": "cVgVtWoEl3H2",
        "outputId": "cefd20c5-d5f2-4924-de90-1e9b4129fd11"
      },
      "execution_count": 48,
      "outputs": [
        {
          "output_type": "execute_result",
          "data": {
            "text/plain": [
              "([1, 2, 3, 4], 4)"
            ]
          },
          "metadata": {},
          "execution_count": 48
        }
      ]
    },
    {
      "cell_type": "code",
      "source": [
        "# Get the last item of each of row of our rank 2 tensor\n",
        "rank_2_tensor[:, -1]"
      ],
      "metadata": {
        "colab": {
          "base_uri": "https://localhost:8080/"
        },
        "id": "R2ryikRDl-r0",
        "outputId": "3a291c63-d606-493a-cb45-2518b24c7556"
      },
      "execution_count": 49,
      "outputs": [
        {
          "output_type": "execute_result",
          "data": {
            "text/plain": [
              "<tf.Tensor: shape=(2,), dtype=int32, numpy=array([7, 4], dtype=int32)>"
            ]
          },
          "metadata": {},
          "execution_count": 49
        }
      ]
    },
    {
      "cell_type": "code",
      "source": [
        "# Add in extra dimension to our rank 2 tensor\n",
        "rank_3_tensor = rank_2_tensor[..., tf.newaxis]\n",
        "rank_3_tensor"
      ],
      "metadata": {
        "colab": {
          "base_uri": "https://localhost:8080/"
        },
        "id": "zUkVvUJlmQDp",
        "outputId": "b06e072e-fdf2-4b38-ff3e-17cd8bdf13ea"
      },
      "execution_count": 50,
      "outputs": [
        {
          "output_type": "execute_result",
          "data": {
            "text/plain": [
              "<tf.Tensor: shape=(2, 2, 1), dtype=int32, numpy=\n",
              "array([[[10],\n",
              "        [ 7]],\n",
              "\n",
              "       [[ 3],\n",
              "        [ 4]]], dtype=int32)>"
            ]
          },
          "metadata": {},
          "execution_count": 50
        }
      ]
    },
    {
      "cell_type": "code",
      "source": [
        "# \"...\" == \":,:\" Ove 3 tackice kazu da za svaku osu ovo vazi"
      ],
      "metadata": {
        "id": "PSkE1ZKGmcL3"
      },
      "execution_count": 51,
      "outputs": []
    },
    {
      "cell_type": "code",
      "source": [
        "# Alternative to tf.newaxis\n",
        "tf.expand_dims(rank_2_tensor, axis=-1) # \"-1\" means expand the final exis"
      ],
      "metadata": {
        "colab": {
          "base_uri": "https://localhost:8080/"
        },
        "id": "Cbv0mG7nmuSy",
        "outputId": "e389da5b-c9c2-436e-b8c6-a8601a7a9a61"
      },
      "execution_count": 52,
      "outputs": [
        {
          "output_type": "execute_result",
          "data": {
            "text/plain": [
              "<tf.Tensor: shape=(2, 2, 1), dtype=int32, numpy=\n",
              "array([[[10],\n",
              "        [ 7]],\n",
              "\n",
              "       [[ 3],\n",
              "        [ 4]]], dtype=int32)>"
            ]
          },
          "metadata": {},
          "execution_count": 52
        }
      ]
    },
    {
      "cell_type": "code",
      "source": [
        "# Expand the 0-axis\n",
        "tf.expand_dims(rank_2_tensor, axis=0) # expand the 0-axis"
      ],
      "metadata": {
        "colab": {
          "base_uri": "https://localhost:8080/"
        },
        "id": "PNdqTZQbm_OG",
        "outputId": "f386c108-9d3c-4411-ee25-304ba5d0b74a"
      },
      "execution_count": 53,
      "outputs": [
        {
          "output_type": "execute_result",
          "data": {
            "text/plain": [
              "<tf.Tensor: shape=(1, 2, 2), dtype=int32, numpy=\n",
              "array([[[10,  7],\n",
              "        [ 3,  4]]], dtype=int32)>"
            ]
          },
          "metadata": {},
          "execution_count": 53
        }
      ]
    },
    {
      "cell_type": "markdown",
      "source": [
        "### Manipulationg tensors (tensor operations)\n",
        "\n",
        "**Basic operations**\n",
        "\n",
        "**+, - , * , /**"
      ],
      "metadata": {
        "id": "ZuKPHKVOnYTt"
      }
    },
    {
      "cell_type": "code",
      "source": [
        "# You can add values to a tensor using the addition operator\n",
        "tensor = tf.constant([[10, 7],\n",
        "                      [3, 4]])\n",
        "tensor + 10"
      ],
      "metadata": {
        "colab": {
          "base_uri": "https://localhost:8080/"
        },
        "id": "-FmJ4pZAnrHR",
        "outputId": "37feedad-1ae2-421e-9235-791a456f27dd"
      },
      "execution_count": 54,
      "outputs": [
        {
          "output_type": "execute_result",
          "data": {
            "text/plain": [
              "<tf.Tensor: shape=(2, 2), dtype=int32, numpy=\n",
              "array([[20, 17],\n",
              "       [13, 14]], dtype=int32)>"
            ]
          },
          "metadata": {},
          "execution_count": 54
        }
      ]
    },
    {
      "cell_type": "code",
      "source": [
        "# Original tensor is unchanged\n",
        "tensor"
      ],
      "metadata": {
        "colab": {
          "base_uri": "https://localhost:8080/"
        },
        "id": "HVVpddxdoQ6Q",
        "outputId": "2f707134-b806-48fd-af83-bf0d53f5b2b6"
      },
      "execution_count": 55,
      "outputs": [
        {
          "output_type": "execute_result",
          "data": {
            "text/plain": [
              "<tf.Tensor: shape=(2, 2), dtype=int32, numpy=\n",
              "array([[10,  7],\n",
              "       [ 3,  4]], dtype=int32)>"
            ]
          },
          "metadata": {},
          "execution_count": 55
        }
      ]
    },
    {
      "cell_type": "code",
      "source": [
        "tensor = tensor + 10\n",
        "tensor"
      ],
      "metadata": {
        "colab": {
          "base_uri": "https://localhost:8080/"
        },
        "id": "XfaUeNBZoWwU",
        "outputId": "bdb8aa0d-8514-4df1-dbac-eb1be5c9ef1c"
      },
      "execution_count": 56,
      "outputs": [
        {
          "output_type": "execute_result",
          "data": {
            "text/plain": [
              "<tf.Tensor: shape=(2, 2), dtype=int32, numpy=\n",
              "array([[20, 17],\n",
              "       [13, 14]], dtype=int32)>"
            ]
          },
          "metadata": {},
          "execution_count": 56
        }
      ]
    },
    {
      "cell_type": "code",
      "source": [
        "# Multiplication also work\n",
        "tensor * 10"
      ],
      "metadata": {
        "colab": {
          "base_uri": "https://localhost:8080/"
        },
        "id": "rS9qceHMob8i",
        "outputId": "9bfac432-bcee-4e2a-9f4b-a138bd99030c"
      },
      "execution_count": 57,
      "outputs": [
        {
          "output_type": "execute_result",
          "data": {
            "text/plain": [
              "<tf.Tensor: shape=(2, 2), dtype=int32, numpy=\n",
              "array([[200, 170],\n",
              "       [130, 140]], dtype=int32)>"
            ]
          },
          "metadata": {},
          "execution_count": 57
        }
      ]
    },
    {
      "cell_type": "code",
      "source": [
        "# Substarction if you want\n",
        "tensor - 10"
      ],
      "metadata": {
        "colab": {
          "base_uri": "https://localhost:8080/"
        },
        "id": "jF0DlNZwolY8",
        "outputId": "8a5ecc17-a095-4e31-9faa-873d9d1d0ac5"
      },
      "execution_count": 58,
      "outputs": [
        {
          "output_type": "execute_result",
          "data": {
            "text/plain": [
              "<tf.Tensor: shape=(2, 2), dtype=int32, numpy=\n",
              "array([[10,  7],\n",
              "       [ 3,  4]], dtype=int32)>"
            ]
          },
          "metadata": {},
          "execution_count": 58
        }
      ]
    },
    {
      "cell_type": "code",
      "source": [
        "# We can use the tensor flow built-in function too\n",
        "tf.multiply(tensor, 10)"
      ],
      "metadata": {
        "colab": {
          "base_uri": "https://localhost:8080/"
        },
        "id": "uEHK5kxhopo7",
        "outputId": "214a1d10-b6cb-4ff0-8ec1-f4464c7aefce"
      },
      "execution_count": 59,
      "outputs": [
        {
          "output_type": "execute_result",
          "data": {
            "text/plain": [
              "<tf.Tensor: shape=(2, 2), dtype=int32, numpy=\n",
              "array([[200, 170],\n",
              "       [130, 140]], dtype=int32)>"
            ]
          },
          "metadata": {},
          "execution_count": 59
        }
      ]
    },
    {
      "cell_type": "code",
      "source": [
        "tensor"
      ],
      "metadata": {
        "colab": {
          "base_uri": "https://localhost:8080/"
        },
        "id": "M9XqlAYeo4xU",
        "outputId": "29dc4904-a175-4fb8-85b5-95b2b397a69d"
      },
      "execution_count": 60,
      "outputs": [
        {
          "output_type": "execute_result",
          "data": {
            "text/plain": [
              "<tf.Tensor: shape=(2, 2), dtype=int32, numpy=\n",
              "array([[20, 17],\n",
              "       [13, 14]], dtype=int32)>"
            ]
          },
          "metadata": {},
          "execution_count": 60
        }
      ]
    },
    {
      "cell_type": "markdown",
      "source": [
        "**Matrix multiplication**\n",
        "\n",
        "In machine learning, matrix multiplication is one of the most common tensor operations.\n",
        "\n",
        "-Element wise je kada se sabira na primer onda se sabirak dodaje svakom broju u tensoru.\n",
        "\n",
        "There are two rules our tensors (or matrices) need to fulfil if we are going to matrix multiply them:\n",
        "1. The inner dimensions must match\n",
        "2. The resulting matrix has the shape of outter dimensions  \n"
      ],
      "metadata": {
        "id": "rRH4Y6Roo-QP"
      }
    },
    {
      "cell_type": "markdown",
      "source": [
        "  ![matrix-multiply-constant.svg](data:image/svg+xml;base64,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)"
      ],
      "metadata": {
        "id": "czm3rKz3pIj1"
      }
    },
    {
      "cell_type": "markdown",
      "source": [
        "-Dot product je klasicno mnozenje matrica\n",
        "\n",
        "![matrix-multiply-a.svg](data:image/svg+xml;base64,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)"
      ],
      "metadata": {
        "id": "Dp3owOo-ruuf"
      }
    },
    {
      "cell_type": "markdown",
      "source": [
        "(1, 2, 3) • (7, 9, 11) = 1×7 + 2×9 + 3×11 = 58"
      ],
      "metadata": {
        "id": "UdbaK-x7sfyj"
      }
    },
    {
      "cell_type": "markdown",
      "source": [
        "1. row and 1. column"
      ],
      "metadata": {
        "id": "lxWb-X08sneM"
      }
    },
    {
      "cell_type": "markdown",
      "source": [
        "http://matrixmultiplication.xyz/"
      ],
      "metadata": {
        "id": "nCSZ5HnoswUI"
      }
    },
    {
      "cell_type": "code",
      "source": [
        "# Matrix multiplication in tensorflow\n",
        "print(tensor)\n",
        "tf.matmul(tensor, tensor)"
      ],
      "metadata": {
        "colab": {
          "base_uri": "https://localhost:8080/"
        },
        "id": "_rvy1oWcs_px",
        "outputId": "d54113b9-787e-4f8d-f815-b6f4662fac38"
      },
      "execution_count": 61,
      "outputs": [
        {
          "output_type": "stream",
          "name": "stdout",
          "text": [
            "tf.Tensor(\n",
            "[[20 17]\n",
            " [13 14]], shape=(2, 2), dtype=int32)\n"
          ]
        },
        {
          "output_type": "execute_result",
          "data": {
            "text/plain": [
              "<tf.Tensor: shape=(2, 2), dtype=int32, numpy=\n",
              "array([[621, 578],\n",
              "       [442, 417]], dtype=int32)>"
            ]
          },
          "metadata": {},
          "execution_count": 61
        }
      ]
    },
    {
      "cell_type": "code",
      "source": [
        "tensor * tensor # element wise"
      ],
      "metadata": {
        "colab": {
          "base_uri": "https://localhost:8080/"
        },
        "id": "A5735f4StlAP",
        "outputId": "b6062062-4c86-4f88-d04f-9bfd4b72a89e"
      },
      "execution_count": 62,
      "outputs": [
        {
          "output_type": "execute_result",
          "data": {
            "text/plain": [
              "<tf.Tensor: shape=(2, 2), dtype=int32, numpy=\n",
              "array([[400, 289],\n",
              "       [169, 196]], dtype=int32)>"
            ]
          },
          "metadata": {},
          "execution_count": 62
        }
      ]
    },
    {
      "cell_type": "code",
      "source": [
        "# Matrix multiplication with Python operator \"@\"\n",
        "tensor @ tensor"
      ],
      "metadata": {
        "colab": {
          "base_uri": "https://localhost:8080/"
        },
        "id": "TyfcfHoCtZRG",
        "outputId": "eed255fc-f84a-4e86-a6ef-3cd06cb9e725"
      },
      "execution_count": 63,
      "outputs": [
        {
          "output_type": "execute_result",
          "data": {
            "text/plain": [
              "<tf.Tensor: shape=(2, 2), dtype=int32, numpy=\n",
              "array([[621, 578],\n",
              "       [442, 417]], dtype=int32)>"
            ]
          },
          "metadata": {},
          "execution_count": 63
        }
      ]
    },
    {
      "cell_type": "code",
      "source": [
        "tensor.shape"
      ],
      "metadata": {
        "colab": {
          "base_uri": "https://localhost:8080/"
        },
        "id": "7-H9Ac-RtzH6",
        "outputId": "62ef6cd4-44a2-4dbc-a859-3eb399a96bca"
      },
      "execution_count": 64,
      "outputs": [
        {
          "output_type": "execute_result",
          "data": {
            "text/plain": [
              "TensorShape([2, 2])"
            ]
          },
          "metadata": {},
          "execution_count": 64
        }
      ]
    },
    {
      "cell_type": "code",
      "source": [
        "# Create a tensor (3,2) \n",
        "X = tf.constant([[1, 2],\n",
        "                 [3, 4],\n",
        "                 [5, 6]])\n",
        "Y = tf.constant([[7, 8],\n",
        "                 [9, 10],\n",
        "                 [11, 12]])\n",
        "X, Y"
      ],
      "metadata": {
        "colab": {
          "base_uri": "https://localhost:8080/"
        },
        "id": "PbmMHlcCt16W",
        "outputId": "9e358655-0f56-4fed-b3e8-23a5cda5d7c1"
      },
      "execution_count": 65,
      "outputs": [
        {
          "output_type": "execute_result",
          "data": {
            "text/plain": [
              "(<tf.Tensor: shape=(3, 2), dtype=int32, numpy=\n",
              " array([[1, 2],\n",
              "        [3, 4],\n",
              "        [5, 6]], dtype=int32)>, <tf.Tensor: shape=(3, 2), dtype=int32, numpy=\n",
              " array([[ 7,  8],\n",
              "        [ 9, 10],\n",
              "        [11, 12]], dtype=int32)>)"
            ]
          },
          "metadata": {},
          "execution_count": 65
        }
      ]
    },
    {
      "cell_type": "code",
      "source": [
        "# Try to matrix multiply tensors of same shape\n",
        "tf.matmul(X, Y)"
      ],
      "metadata": {
        "colab": {
          "base_uri": "https://localhost:8080/",
          "height": 328
        },
        "id": "Wxo-BddhuMUC",
        "outputId": "186e6c15-fc36-41f1-a7ff-924bec90d89c"
      },
      "execution_count": 66,
      "outputs": [
        {
          "output_type": "error",
          "ename": "InvalidArgumentError",
          "evalue": "ignored",
          "traceback": [
            "\u001b[0;31m---------------------------------------------------------------------------\u001b[0m",
            "\u001b[0;31mInvalidArgumentError\u001b[0m                      Traceback (most recent call last)",
            "\u001b[0;32m<ipython-input-66-32b138ac07cc>\u001b[0m in \u001b[0;36m<module>\u001b[0;34m()\u001b[0m\n\u001b[1;32m      1\u001b[0m \u001b[0;31m# Try to matrix multiply tensors of same shape\u001b[0m\u001b[0;34m\u001b[0m\u001b[0;34m\u001b[0m\u001b[0;34m\u001b[0m\u001b[0m\n\u001b[0;32m----> 2\u001b[0;31m \u001b[0mtf\u001b[0m\u001b[0;34m.\u001b[0m\u001b[0mmatmul\u001b[0m\u001b[0;34m(\u001b[0m\u001b[0mX\u001b[0m\u001b[0;34m,\u001b[0m \u001b[0mY\u001b[0m\u001b[0;34m)\u001b[0m\u001b[0;34m\u001b[0m\u001b[0;34m\u001b[0m\u001b[0m\n\u001b[0m",
            "\u001b[0;32m/usr/local/lib/python3.7/dist-packages/tensorflow/python/util/traceback_utils.py\u001b[0m in \u001b[0;36merror_handler\u001b[0;34m(*args, **kwargs)\u001b[0m\n\u001b[1;32m    151\u001b[0m     \u001b[0;32mexcept\u001b[0m \u001b[0mException\u001b[0m \u001b[0;32mas\u001b[0m \u001b[0me\u001b[0m\u001b[0;34m:\u001b[0m\u001b[0;34m\u001b[0m\u001b[0;34m\u001b[0m\u001b[0m\n\u001b[1;32m    152\u001b[0m       \u001b[0mfiltered_tb\u001b[0m \u001b[0;34m=\u001b[0m \u001b[0m_process_traceback_frames\u001b[0m\u001b[0;34m(\u001b[0m\u001b[0me\u001b[0m\u001b[0;34m.\u001b[0m\u001b[0m__traceback__\u001b[0m\u001b[0;34m)\u001b[0m\u001b[0;34m\u001b[0m\u001b[0;34m\u001b[0m\u001b[0m\n\u001b[0;32m--> 153\u001b[0;31m       \u001b[0;32mraise\u001b[0m \u001b[0me\u001b[0m\u001b[0;34m.\u001b[0m\u001b[0mwith_traceback\u001b[0m\u001b[0;34m(\u001b[0m\u001b[0mfiltered_tb\u001b[0m\u001b[0;34m)\u001b[0m \u001b[0;32mfrom\u001b[0m \u001b[0;32mNone\u001b[0m\u001b[0;34m\u001b[0m\u001b[0;34m\u001b[0m\u001b[0m\n\u001b[0m\u001b[1;32m    154\u001b[0m     \u001b[0;32mfinally\u001b[0m\u001b[0;34m:\u001b[0m\u001b[0;34m\u001b[0m\u001b[0;34m\u001b[0m\u001b[0m\n\u001b[1;32m    155\u001b[0m       \u001b[0;32mdel\u001b[0m \u001b[0mfiltered_tb\u001b[0m\u001b[0;34m\u001b[0m\u001b[0;34m\u001b[0m\u001b[0m\n",
            "\u001b[0;32m/usr/local/lib/python3.7/dist-packages/tensorflow/python/framework/ops.py\u001b[0m in \u001b[0;36mraise_from_not_ok_status\u001b[0;34m(e, name)\u001b[0m\n\u001b[1;32m   7184\u001b[0m \u001b[0;32mdef\u001b[0m \u001b[0mraise_from_not_ok_status\u001b[0m\u001b[0;34m(\u001b[0m\u001b[0me\u001b[0m\u001b[0;34m,\u001b[0m \u001b[0mname\u001b[0m\u001b[0;34m)\u001b[0m\u001b[0;34m:\u001b[0m\u001b[0;34m\u001b[0m\u001b[0;34m\u001b[0m\u001b[0m\n\u001b[1;32m   7185\u001b[0m   \u001b[0me\u001b[0m\u001b[0;34m.\u001b[0m\u001b[0mmessage\u001b[0m \u001b[0;34m+=\u001b[0m \u001b[0;34m(\u001b[0m\u001b[0;34m\" name: \"\u001b[0m \u001b[0;34m+\u001b[0m \u001b[0mname\u001b[0m \u001b[0;32mif\u001b[0m \u001b[0mname\u001b[0m \u001b[0;32mis\u001b[0m \u001b[0;32mnot\u001b[0m \u001b[0;32mNone\u001b[0m \u001b[0;32melse\u001b[0m \u001b[0;34m\"\"\u001b[0m\u001b[0;34m)\u001b[0m\u001b[0;34m\u001b[0m\u001b[0;34m\u001b[0m\u001b[0m\n\u001b[0;32m-> 7186\u001b[0;31m   \u001b[0;32mraise\u001b[0m \u001b[0mcore\u001b[0m\u001b[0;34m.\u001b[0m\u001b[0m_status_to_exception\u001b[0m\u001b[0;34m(\u001b[0m\u001b[0me\u001b[0m\u001b[0;34m)\u001b[0m \u001b[0;32mfrom\u001b[0m \u001b[0;32mNone\u001b[0m  \u001b[0;31m# pylint: disable=protected-access\u001b[0m\u001b[0;34m\u001b[0m\u001b[0;34m\u001b[0m\u001b[0m\n\u001b[0m\u001b[1;32m   7187\u001b[0m \u001b[0;34m\u001b[0m\u001b[0m\n\u001b[1;32m   7188\u001b[0m \u001b[0;34m\u001b[0m\u001b[0m\n",
            "\u001b[0;31mInvalidArgumentError\u001b[0m: Matrix size-incompatible: In[0]: [3,2], In[1]: [3,2] [Op:MatMul]"
          ]
        }
      ]
    },
    {
      "cell_type": "code",
      "source": [
        "Y"
      ],
      "metadata": {
        "colab": {
          "base_uri": "https://localhost:8080/"
        },
        "id": "SCzYY56G-j5x",
        "outputId": "4a54f7bc-78c0-4714-fecd-f236989e026d"
      },
      "execution_count": 67,
      "outputs": [
        {
          "output_type": "execute_result",
          "data": {
            "text/plain": [
              "<tf.Tensor: shape=(3, 2), dtype=int32, numpy=\n",
              "array([[ 7,  8],\n",
              "       [ 9, 10],\n",
              "       [11, 12]], dtype=int32)>"
            ]
          },
          "metadata": {},
          "execution_count": 67
        }
      ]
    },
    {
      "cell_type": "code",
      "source": [
        "# Lets change the shape of Y\n",
        "tf.reshape(Y, shape=(2,3))"
      ],
      "metadata": {
        "colab": {
          "base_uri": "https://localhost:8080/"
        },
        "id": "puKdN1X89DzV",
        "outputId": "903e7c51-b516-4a50-d687-c820641b8902"
      },
      "execution_count": 68,
      "outputs": [
        {
          "output_type": "execute_result",
          "data": {
            "text/plain": [
              "<tf.Tensor: shape=(2, 3), dtype=int32, numpy=\n",
              "array([[ 7,  8,  9],\n",
              "       [10, 11, 12]], dtype=int32)>"
            ]
          },
          "metadata": {},
          "execution_count": 68
        }
      ]
    },
    {
      "cell_type": "code",
      "source": [
        "# Try to matrix multiply X by reshaped Y\n",
        "X @ tf.reshape(Y, shape=(2,3))"
      ],
      "metadata": {
        "colab": {
          "base_uri": "https://localhost:8080/"
        },
        "id": "82AipUZ4-lx_",
        "outputId": "6139dd67-5d4f-4cae-c9b3-424c30368b44"
      },
      "execution_count": 69,
      "outputs": [
        {
          "output_type": "execute_result",
          "data": {
            "text/plain": [
              "<tf.Tensor: shape=(3, 3), dtype=int32, numpy=\n",
              "array([[ 27,  30,  33],\n",
              "       [ 61,  68,  75],\n",
              "       [ 95, 106, 117]], dtype=int32)>"
            ]
          },
          "metadata": {},
          "execution_count": 69
        }
      ]
    },
    {
      "cell_type": "code",
      "source": [
        "tf.matmul(X, tf.reshape(Y, shape=(2,3)))"
      ],
      "metadata": {
        "colab": {
          "base_uri": "https://localhost:8080/"
        },
        "id": "cGnJvV9o-xNe",
        "outputId": "2f38dc4d-4156-4613-f8b9-9a86adf1132d"
      },
      "execution_count": 70,
      "outputs": [
        {
          "output_type": "execute_result",
          "data": {
            "text/plain": [
              "<tf.Tensor: shape=(3, 3), dtype=int32, numpy=\n",
              "array([[ 27,  30,  33],\n",
              "       [ 61,  68,  75],\n",
              "       [ 95, 106, 117]], dtype=int32)>"
            ]
          },
          "metadata": {},
          "execution_count": 70
        }
      ]
    },
    {
      "cell_type": "code",
      "source": [
        "# Try change the shape of X instead of Y\n",
        "tf.matmul(tf.reshape(X, shape=(2,3)), Y)"
      ],
      "metadata": {
        "colab": {
          "base_uri": "https://localhost:8080/"
        },
        "id": "L4CRqrtc--t_",
        "outputId": "82a72f05-fb1e-4d3d-9377-17f92860ee11"
      },
      "execution_count": 71,
      "outputs": [
        {
          "output_type": "execute_result",
          "data": {
            "text/plain": [
              "<tf.Tensor: shape=(2, 2), dtype=int32, numpy=\n",
              "array([[ 58,  64],\n",
              "       [139, 154]], dtype=int32)>"
            ]
          },
          "metadata": {},
          "execution_count": 71
        }
      ]
    },
    {
      "cell_type": "code",
      "source": [
        "tf.reshape(X, shape=(2, 3)).shape, Y.shape"
      ],
      "metadata": {
        "colab": {
          "base_uri": "https://localhost:8080/"
        },
        "id": "J5PHIUAv_TUb",
        "outputId": "a5125d79-4456-4f36-af61-b6ef3d115218"
      },
      "execution_count": 72,
      "outputs": [
        {
          "output_type": "execute_result",
          "data": {
            "text/plain": [
              "(TensorShape([2, 3]), TensorShape([3, 2]))"
            ]
          },
          "metadata": {},
          "execution_count": 72
        }
      ]
    },
    {
      "cell_type": "code",
      "source": [
        "# Can do the same with transpose - bitno je da se zna da postoji velika razlika sa reshape i transpose\n",
        "X, tf.transpose(X), tf.reshape(X, shape=(2,3))"
      ],
      "metadata": {
        "colab": {
          "base_uri": "https://localhost:8080/"
        },
        "id": "adoZbtGU_qyP",
        "outputId": "a89c0b45-eefb-48d1-c598-35144b36eaae"
      },
      "execution_count": 73,
      "outputs": [
        {
          "output_type": "execute_result",
          "data": {
            "text/plain": [
              "(<tf.Tensor: shape=(3, 2), dtype=int32, numpy=\n",
              " array([[1, 2],\n",
              "        [3, 4],\n",
              "        [5, 6]], dtype=int32)>, <tf.Tensor: shape=(2, 3), dtype=int32, numpy=\n",
              " array([[1, 3, 5],\n",
              "        [2, 4, 6]], dtype=int32)>, <tf.Tensor: shape=(2, 3), dtype=int32, numpy=\n",
              " array([[1, 2, 3],\n",
              "        [4, 5, 6]], dtype=int32)>)"
            ]
          },
          "metadata": {},
          "execution_count": 73
        }
      ]
    },
    {
      "cell_type": "code",
      "source": [
        "# Try matrix multiplication with transpose rather then reshape\n",
        "tf.matmul(tf.transpose(X), Y)"
      ],
      "metadata": {
        "colab": {
          "base_uri": "https://localhost:8080/"
        },
        "id": "ALJU8nM-AC4r",
        "outputId": "7e7ca26b-7794-47f9-f223-92b27c06740d"
      },
      "execution_count": 74,
      "outputs": [
        {
          "output_type": "execute_result",
          "data": {
            "text/plain": [
              "<tf.Tensor: shape=(2, 2), dtype=int32, numpy=\n",
              "array([[ 89,  98],\n",
              "       [116, 128]], dtype=int32)>"
            ]
          },
          "metadata": {},
          "execution_count": 74
        }
      ]
    },
    {
      "cell_type": "markdown",
      "source": [
        "📚 **Resource**: Info and example of matrix multiplication: https://www.mathsisfun.com/algebra/matrix-multiplying.html"
      ],
      "metadata": {
        "id": "SAOAh6OpuXLH"
      }
    },
    {
      "cell_type": "markdown",
      "source": [
        "**The dot product**\n",
        "\n",
        "Matrix multiplication is also referred to as the dot product.\n",
        "\n",
        "You can perform matix multiplication using:\n",
        "* `tf.matmul()`\n",
        "* `tf.tesnordot()`"
      ],
      "metadata": {
        "id": "apG4Pni9ujP6"
      }
    },
    {
      "cell_type": "code",
      "source": [
        "# Perform the dot product on X and Y (requires X or Y to be transposed)\n",
        "tf.tensordot(tf.transpose(X), Y, axes=1)"
      ],
      "metadata": {
        "colab": {
          "base_uri": "https://localhost:8080/"
        },
        "id": "73y84rKpA5SJ",
        "outputId": "f3d90b52-ce5c-4eb9-b043-1e41d6f399e7"
      },
      "execution_count": 75,
      "outputs": [
        {
          "output_type": "execute_result",
          "data": {
            "text/plain": [
              "<tf.Tensor: shape=(2, 2), dtype=int32, numpy=\n",
              "array([[ 89,  98],\n",
              "       [116, 128]], dtype=int32)>"
            ]
          },
          "metadata": {},
          "execution_count": 75
        }
      ]
    },
    {
      "cell_type": "code",
      "source": [
        "# Perform matrix multiplication between X and Y (transposed)\n",
        "tf.matmul(X, tf.transpose(Y))"
      ],
      "metadata": {
        "colab": {
          "base_uri": "https://localhost:8080/"
        },
        "id": "tPdRzqitDE5N",
        "outputId": "7db42322-6a07-4530-c4db-51569b944d75"
      },
      "execution_count": 76,
      "outputs": [
        {
          "output_type": "execute_result",
          "data": {
            "text/plain": [
              "<tf.Tensor: shape=(3, 3), dtype=int32, numpy=\n",
              "array([[ 23,  29,  35],\n",
              "       [ 53,  67,  81],\n",
              "       [ 83, 105, 127]], dtype=int32)>"
            ]
          },
          "metadata": {},
          "execution_count": 76
        }
      ]
    },
    {
      "cell_type": "code",
      "source": [
        "# Perform matix multiplication betwwen X and Y (reshaped)\n",
        "tf.matmul(X, tf.reshape(Y, shape=(2, 3)))"
      ],
      "metadata": {
        "colab": {
          "base_uri": "https://localhost:8080/"
        },
        "id": "TlkjAFyMDf13",
        "outputId": "afbe1b36-313a-4bc2-c912-c4b3a96a606a"
      },
      "execution_count": 77,
      "outputs": [
        {
          "output_type": "execute_result",
          "data": {
            "text/plain": [
              "<tf.Tensor: shape=(3, 3), dtype=int32, numpy=\n",
              "array([[ 27,  30,  33],\n",
              "       [ 61,  68,  75],\n",
              "       [ 95, 106, 117]], dtype=int32)>"
            ]
          },
          "metadata": {},
          "execution_count": 77
        }
      ]
    },
    {
      "cell_type": "code",
      "source": [
        "# Check the values of Y, reshaped Y and transposed Y\n",
        "print(\"Normal Y:\")\n",
        "print(Y, \"\\n\") # \"\\n\" is for new line\n",
        "\n",
        "print(\"Y reshaped to (2,3):\")\n",
        "print(tf.reshape(Y, shape=(2, 3)), \"\\n\")\n",
        "\n",
        "print(\"Y transposed:\")\n",
        "print(tf.transpose(Y))"
      ],
      "metadata": {
        "colab": {
          "base_uri": "https://localhost:8080/"
        },
        "id": "HwjrmPrlDoWQ",
        "outputId": "3c016073-4400-4fe8-8182-a37d7df96984"
      },
      "execution_count": 78,
      "outputs": [
        {
          "output_type": "stream",
          "name": "stdout",
          "text": [
            "Normal Y:\n",
            "tf.Tensor(\n",
            "[[ 7  8]\n",
            " [ 9 10]\n",
            " [11 12]], shape=(3, 2), dtype=int32) \n",
            "\n",
            "Y reshaped to (2,3):\n",
            "tf.Tensor(\n",
            "[[ 7  8  9]\n",
            " [10 11 12]], shape=(2, 3), dtype=int32) \n",
            "\n",
            "Y transposed:\n",
            "tf.Tensor(\n",
            "[[ 7  9 11]\n",
            " [ 8 10 12]], shape=(2, 3), dtype=int32)\n"
          ]
        }
      ]
    },
    {
      "cell_type": "code",
      "source": [
        "tf.matmul(X, tf.transpose(Y))"
      ],
      "metadata": {
        "colab": {
          "base_uri": "https://localhost:8080/"
        },
        "id": "-LeWZNZFEGnC",
        "outputId": "5b702231-090d-40e9-92f0-af44d8517ade"
      },
      "execution_count": 79,
      "outputs": [
        {
          "output_type": "execute_result",
          "data": {
            "text/plain": [
              "<tf.Tensor: shape=(3, 3), dtype=int32, numpy=\n",
              "array([[ 23,  29,  35],\n",
              "       [ 53,  67,  81],\n",
              "       [ 83, 105, 127]], dtype=int32)>"
            ]
          },
          "metadata": {},
          "execution_count": 79
        }
      ]
    },
    {
      "cell_type": "markdown",
      "source": [
        "Generally, when performing matrix multiplication on two tensors and one of the axes doesnt line up, you will transpose (rather then reshape) one of the tensors to get satisify the matrix multiplication rules."
      ],
      "metadata": {
        "id": "QLUgmhPEFE-O"
      }
    },
    {
      "cell_type": "markdown",
      "source": [
        "Kod 3D matrica na primer bitno da se slazu poslednje dve dimenzije... na primer 3,3,2 i 3,2,4 se slazu jer se i 3,2 i 2,4 slazu i izlaz je 3,3,4."
      ],
      "metadata": {
        "id": "fKiNaih9GJz5"
      }
    },
    {
      "cell_type": "markdown",
      "source": [
        " ### Changing the datatype of a tensor"
      ],
      "metadata": {
        "id": "JISeOniRFmAg"
      }
    },
    {
      "cell_type": "code",
      "source": [
        "# Create a new tesor with default datatype (float32)\n",
        "B = tf.constant([1.7, 7.4])\n",
        "B.dtype"
      ],
      "metadata": {
        "colab": {
          "base_uri": "https://localhost:8080/"
        },
        "id": "Z08Te2I6FwaL",
        "outputId": "33e2d99d-5685-4bf5-ce85-08c8474621fe"
      },
      "execution_count": 80,
      "outputs": [
        {
          "output_type": "execute_result",
          "data": {
            "text/plain": [
              "tf.float32"
            ]
          },
          "metadata": {},
          "execution_count": 80
        }
      ]
    },
    {
      "cell_type": "code",
      "source": [
        "C = tf.constant([7, 10])\n",
        "C.dtype"
      ],
      "metadata": {
        "colab": {
          "base_uri": "https://localhost:8080/"
        },
        "id": "y9bmEkUfXyvL",
        "outputId": "163af95d-ebf0-46e6-8541-c3549c406a5b"
      },
      "execution_count": 81,
      "outputs": [
        {
          "output_type": "execute_result",
          "data": {
            "text/plain": [
              "tf.int32"
            ]
          },
          "metadata": {},
          "execution_count": 81
        }
      ]
    },
    {
      "cell_type": "code",
      "source": [
        "# Change from float32 to float 16 (reduce precision) - faster running\n",
        "D = tf.cast(B, dtype=tf.float16)\n",
        "B, D"
      ],
      "metadata": {
        "colab": {
          "base_uri": "https://localhost:8080/"
        },
        "id": "Lq-QTyZMX5WH",
        "outputId": "3a6344ab-c007-4515-9acf-e2e6629a5ccb"
      },
      "execution_count": 82,
      "outputs": [
        {
          "output_type": "execute_result",
          "data": {
            "text/plain": [
              "(<tf.Tensor: shape=(2,), dtype=float32, numpy=array([1.7, 7.4], dtype=float32)>,\n",
              " <tf.Tensor: shape=(2,), dtype=float16, numpy=array([1.7, 7.4], dtype=float16)>)"
            ]
          },
          "metadata": {},
          "execution_count": 82
        }
      ]
    },
    {
      "cell_type": "code",
      "source": [
        "# Change from int32 to float32\n",
        "E = tf.cast(C, dtype=tf.float32)\n",
        "E"
      ],
      "metadata": {
        "colab": {
          "base_uri": "https://localhost:8080/"
        },
        "id": "YiH5WgpfYe84",
        "outputId": "6dc67a69-df20-488e-e463-271a166906f7"
      },
      "execution_count": 83,
      "outputs": [
        {
          "output_type": "execute_result",
          "data": {
            "text/plain": [
              "<tf.Tensor: shape=(2,), dtype=float32, numpy=array([ 7., 10.], dtype=float32)>"
            ]
          },
          "metadata": {},
          "execution_count": 83
        }
      ]
    },
    {
      "cell_type": "code",
      "source": [
        "E_float16 = tf.cast(E, dtype=tf.float16)"
      ],
      "metadata": {
        "id": "C52tF_n6Yq5J"
      },
      "execution_count": 84,
      "outputs": []
    },
    {
      "cell_type": "markdown",
      "source": [
        "### Agregating tensors\n",
        "\n",
        "Aggregation tensors = condensing them from multiple values down to a smaller amount of values."
      ],
      "metadata": {
        "id": "QxJHFKpAYx3M"
      }
    },
    {
      "cell_type": "code",
      "source": [
        "# Get the absolute values\n",
        "D = tf.constant([-7, -10])\n",
        "D"
      ],
      "metadata": {
        "colab": {
          "base_uri": "https://localhost:8080/"
        },
        "id": "GJKizRaRY03B",
        "outputId": "2e3167bb-a211-476f-8df6-51c4bac3ff65"
      },
      "execution_count": 85,
      "outputs": [
        {
          "output_type": "execute_result",
          "data": {
            "text/plain": [
              "<tf.Tensor: shape=(2,), dtype=int32, numpy=array([ -7, -10], dtype=int32)>"
            ]
          },
          "metadata": {},
          "execution_count": 85
        }
      ]
    },
    {
      "cell_type": "code",
      "source": [
        "# Get the absolute values\n",
        "tf.abs(D)"
      ],
      "metadata": {
        "colab": {
          "base_uri": "https://localhost:8080/"
        },
        "id": "Q1jaZOp3eZjk",
        "outputId": "540e5fdd-cb87-40c0-e03b-13872a866c0a"
      },
      "execution_count": 86,
      "outputs": [
        {
          "output_type": "execute_result",
          "data": {
            "text/plain": [
              "<tf.Tensor: shape=(2,), dtype=int32, numpy=array([ 7, 10], dtype=int32)>"
            ]
          },
          "metadata": {},
          "execution_count": 86
        }
      ]
    },
    {
      "cell_type": "markdown",
      "source": [
        "Lets go through the following forms of aggregation:\n",
        "* Get the minimum\n",
        "* Get the maximum\n",
        "* Get the mean of a tensor\n",
        "* Get the sum of a tensor"
      ],
      "metadata": {
        "id": "PAyZx3M0eeUN"
      }
    },
    {
      "cell_type": "code",
      "source": [
        "# Create a random tensor with values between 0 and 100 of size 50\n",
        "E = tf.constant(np.random.randint(0, 100, size=50))\n",
        "E"
      ],
      "metadata": {
        "colab": {
          "base_uri": "https://localhost:8080/"
        },
        "id": "5w6pGKCLeypT",
        "outputId": "d26d9553-986a-4e85-abae-7ebbf7e1a2de"
      },
      "execution_count": 87,
      "outputs": [
        {
          "output_type": "execute_result",
          "data": {
            "text/plain": [
              "<tf.Tensor: shape=(50,), dtype=int64, numpy=\n",
              "array([21, 22, 46, 66, 75, 99, 14, 39,  0, 60, 33, 28, 93, 25, 11, 85, 13,\n",
              "       23, 36, 33,  8, 93, 56, 18, 69, 78, 54,  1, 17, 86, 57, 17, 46, 77,\n",
              "       61, 51, 46, 34, 16, 36, 97, 15,  4, 14, 66,  7, 88, 87, 74, 27])>"
            ]
          },
          "metadata": {},
          "execution_count": 87
        }
      ]
    },
    {
      "cell_type": "code",
      "source": [
        "tf.size(E), E.shape, E.ndim"
      ],
      "metadata": {
        "colab": {
          "base_uri": "https://localhost:8080/"
        },
        "id": "teZtpxAPfBeC",
        "outputId": "a363d0a2-e347-4adc-a945-225ebd53e7ad"
      },
      "execution_count": 88,
      "outputs": [
        {
          "output_type": "execute_result",
          "data": {
            "text/plain": [
              "(<tf.Tensor: shape=(), dtype=int32, numpy=50>, TensorShape([50]), 1)"
            ]
          },
          "metadata": {},
          "execution_count": 88
        }
      ]
    },
    {
      "cell_type": "code",
      "source": [
        "# Find the minimum\n",
        "tf.reduce_min(E)"
      ],
      "metadata": {
        "colab": {
          "base_uri": "https://localhost:8080/"
        },
        "id": "RnSMfLTffIAE",
        "outputId": "ecb13ff2-1edc-49b1-e8c2-a8b214b97496"
      },
      "execution_count": 89,
      "outputs": [
        {
          "output_type": "execute_result",
          "data": {
            "text/plain": [
              "<tf.Tensor: shape=(), dtype=int64, numpy=0>"
            ]
          },
          "metadata": {},
          "execution_count": 89
        }
      ]
    },
    {
      "cell_type": "code",
      "source": [
        "# Find the maximum\n",
        "tf.reduce_max(E)"
      ],
      "metadata": {
        "colab": {
          "base_uri": "https://localhost:8080/"
        },
        "id": "fw2iyfZCfNmq",
        "outputId": "4b9bcfc4-68b4-48e0-a2ac-4d50b6efd9b3"
      },
      "execution_count": 90,
      "outputs": [
        {
          "output_type": "execute_result",
          "data": {
            "text/plain": [
              "<tf.Tensor: shape=(), dtype=int64, numpy=99>"
            ]
          },
          "metadata": {},
          "execution_count": 90
        }
      ]
    },
    {
      "cell_type": "code",
      "source": [
        "# Find the mean\n",
        "tf.reduce_mean(E)"
      ],
      "metadata": {
        "colab": {
          "base_uri": "https://localhost:8080/"
        },
        "id": "82smn6zzfQoW",
        "outputId": "38d5956c-8b2a-4f58-ce62-c4a079caec48"
      },
      "execution_count": 91,
      "outputs": [
        {
          "output_type": "execute_result",
          "data": {
            "text/plain": [
              "<tf.Tensor: shape=(), dtype=int64, numpy=44>"
            ]
          },
          "metadata": {},
          "execution_count": 91
        }
      ]
    },
    {
      "cell_type": "code",
      "source": [
        "# Find the sum\n",
        "tf.reduce_sum(E)"
      ],
      "metadata": {
        "colab": {
          "base_uri": "https://localhost:8080/"
        },
        "id": "XVDpO2L9fThJ",
        "outputId": "1a2080c5-fecd-455a-80b9-997e19297fbb"
      },
      "execution_count": 92,
      "outputs": [
        {
          "output_type": "execute_result",
          "data": {
            "text/plain": [
              "<tf.Tensor: shape=(), dtype=int64, numpy=2222>"
            ]
          },
          "metadata": {},
          "execution_count": 92
        }
      ]
    },
    {
      "cell_type": "markdown",
      "source": [
        "🔨 **Exercise**: With what we have just learned, find the variance and standard deviation of our `E` tensor using TensorFlow methods."
      ],
      "metadata": {
        "id": "VEA3LLJAfWpd"
      }
    },
    {
      "cell_type": "code",
      "source": [
        "tf.math.reduce_std(tf.cast(E, dtype=tf.float32))"
      ],
      "metadata": {
        "colab": {
          "base_uri": "https://localhost:8080/"
        },
        "id": "Hxiy-JFnfu_M",
        "outputId": "0ec6741b-1034-48d6-e764-cc573a192dff"
      },
      "execution_count": 93,
      "outputs": [
        {
          "output_type": "execute_result",
          "data": {
            "text/plain": [
              "<tf.Tensor: shape=(), dtype=float32, numpy=29.355858>"
            ]
          },
          "metadata": {},
          "execution_count": 93
        }
      ]
    },
    {
      "cell_type": "code",
      "source": [
        "tf.math.reduce_variance(tf.cast(E, dtype=tf.float32))"
      ],
      "metadata": {
        "colab": {
          "base_uri": "https://localhost:8080/"
        },
        "id": "HsUHZPiiPyPp",
        "outputId": "7c635768-2de8-47fd-d3d6-d64288096196"
      },
      "execution_count": 94,
      "outputs": [
        {
          "output_type": "execute_result",
          "data": {
            "text/plain": [
              "<tf.Tensor: shape=(), dtype=float32, numpy=861.7664>"
            ]
          },
          "metadata": {},
          "execution_count": 94
        }
      ]
    },
    {
      "cell_type": "markdown",
      "source": [
        "* Стандардна девијација је у статистици апсолутна мера дисперзије у основном скупу. Она говори, колико у просеку елементи скупа одступају од аритметичке средине скупа. Означава се грчким словом сигма, σ. Ниска стандардна девијација указује на то да вредности имају тенденцију да буду близу средње вредности (која се назива и очекиваном вредношћу) скупа, док висока стандардна девијација указује да су вредности распоређене у ширем опсегу.\n",
        "\n",
        "* Дисперзија или варијанса је појам из теорије вероватноће и статистике. Она представља математичко очекивање одступања случајне променљиве од њене средње вредности. Варијанса је мера дисперзије, што значи да изражава колико је скуп бројева раширен од њихове просечне вредности. Варијанса има централну улогу у статистици, где неке идеје које је користе укључују дескриптивну статистику, статистичко закључивање, тестирање хипотезе, адекватност уклапања и Монте Карло узорковање. Варијанца је важан алат у науци, где је уобичајена примена статистичке анализе података. Варијанца је квадрат стандардне девијације, други централни моменат дистрибуције и коваријанса случајне променљиве са самом собом. На пример, савршена коцка за игру може да да један од 6 исхода. Очекивана вредност броја којег ће коцка да покаже је (1 + 2 + 3 + 4 + 5 + 6)/6 = 3,5, очекивана стандардна девијација је σ ≈ 1.71 (квадратни корен аритметичке средине једнаковероватних квадрата апсолутних одступања: 3,5 − 1, 3,5 − 2, 3,5 − 3, 4 − 3,5, 5 − 3,5, 6 − 3,5, што даје 2,5, 1,5, 0,5, 0,5, 1,5, 2,5), очекивано квадратно одступање или варијанса је  17,5/6 ≈ 2,9 (средња вредност једнаковероватних квадрата одступања: 2,52, 1,52, 0,52, 0,52, 1,52, 2,52).\n",
        "\n",
        "* Link za devijaciju i varijansu objasnjenje: https://www.geeksforgeeks.org/variance-standard-deviation-matrix/"
      ],
      "metadata": {
        "id": "QqcUXGjyQqcR"
      }
    },
    {
      "cell_type": "code",
      "source": [
        "# To find the variance of our tensor we need access to tensorflow_probability\n",
        "import tensorflow_probability as tfp\n",
        "tfp.stats.variance(E)"
      ],
      "metadata": {
        "colab": {
          "base_uri": "https://localhost:8080/"
        },
        "id": "Mll0zp_7Sg9y",
        "outputId": "7d8a83e8-b586-48a5-fb54-c42dcff76700"
      },
      "execution_count": 95,
      "outputs": [
        {
          "output_type": "execute_result",
          "data": {
            "text/plain": [
              "<tf.Tensor: shape=(), dtype=int64, numpy=861>"
            ]
          },
          "metadata": {},
          "execution_count": 95
        }
      ]
    },
    {
      "cell_type": "code",
      "source": [
        "# Find the standard deviation\n",
        "tf.math.reduce_std(tf.cast(E, dtype=tf.float32))"
      ],
      "metadata": {
        "colab": {
          "base_uri": "https://localhost:8080/"
        },
        "id": "LEYj_TiSWqq2",
        "outputId": "7a7a481c-98c1-4872-e318-a6b4ca35162a"
      },
      "execution_count": 96,
      "outputs": [
        {
          "output_type": "execute_result",
          "data": {
            "text/plain": [
              "<tf.Tensor: shape=(), dtype=float32, numpy=29.355858>"
            ]
          },
          "metadata": {},
          "execution_count": 96
        }
      ]
    },
    {
      "cell_type": "markdown",
      "source": [
        "### Find the positional maximum and minimum of a tensor\n",
        "\n"
      ],
      "metadata": {
        "id": "E7i8iBNCW8pf"
      }
    },
    {
      "cell_type": "code",
      "source": [
        "# Create a new tensor for finding postional minimum and maximum\n",
        "tf.random.set_seed(42)\n",
        "F = tf.random.uniform(shape=[50])\n",
        "F"
      ],
      "metadata": {
        "colab": {
          "base_uri": "https://localhost:8080/"
        },
        "id": "K7JLZF0CheK2",
        "outputId": "1f373b6c-2f68-404f-b607-035bbfa82366"
      },
      "execution_count": 97,
      "outputs": [
        {
          "output_type": "execute_result",
          "data": {
            "text/plain": [
              "<tf.Tensor: shape=(50,), dtype=float32, numpy=\n",
              "array([0.6645621 , 0.44100678, 0.3528825 , 0.46448255, 0.03366041,\n",
              "       0.68467236, 0.74011743, 0.8724445 , 0.22632635, 0.22319686,\n",
              "       0.3103881 , 0.7223358 , 0.13318717, 0.5480639 , 0.5746088 ,\n",
              "       0.8996835 , 0.00946367, 0.5212307 , 0.6345445 , 0.1993283 ,\n",
              "       0.72942245, 0.54583454, 0.10756552, 0.6767061 , 0.6602763 ,\n",
              "       0.33695042, 0.60141766, 0.21062577, 0.8527372 , 0.44062173,\n",
              "       0.9485276 , 0.23752594, 0.81179297, 0.5263394 , 0.494308  ,\n",
              "       0.21612847, 0.8457197 , 0.8718841 , 0.3083862 , 0.6868038 ,\n",
              "       0.23764038, 0.7817228 , 0.9671384 , 0.06870162, 0.79873943,\n",
              "       0.66028714, 0.5871513 , 0.16461694, 0.7381023 , 0.32054043],\n",
              "      dtype=float32)>"
            ]
          },
          "metadata": {},
          "execution_count": 97
        }
      ]
    },
    {
      "cell_type": "code",
      "source": [
        "# Find the positional maximum\n",
        "tf.argmax(F)"
      ],
      "metadata": {
        "colab": {
          "base_uri": "https://localhost:8080/"
        },
        "id": "5Js4lNTVkw7_",
        "outputId": "b301384e-ff47-46c5-e308-70480a04432d"
      },
      "execution_count": 98,
      "outputs": [
        {
          "output_type": "execute_result",
          "data": {
            "text/plain": [
              "<tf.Tensor: shape=(), dtype=int64, numpy=42>"
            ]
          },
          "metadata": {},
          "execution_count": 98
        }
      ]
    },
    {
      "cell_type": "code",
      "source": [
        "# Index of our largest value postion\n",
        "F[tf.argmax(F)]"
      ],
      "metadata": {
        "colab": {
          "base_uri": "https://localhost:8080/"
        },
        "id": "1KmXvll9k-yS",
        "outputId": "c0c17e89-d69f-4d3a-a0b2-1e179a487c97"
      },
      "execution_count": 99,
      "outputs": [
        {
          "output_type": "execute_result",
          "data": {
            "text/plain": [
              "<tf.Tensor: shape=(), dtype=float32, numpy=0.9671384>"
            ]
          },
          "metadata": {},
          "execution_count": 99
        }
      ]
    },
    {
      "cell_type": "code",
      "source": [
        "# Find the max value of F\n",
        "tf.reduce_max(F)"
      ],
      "metadata": {
        "colab": {
          "base_uri": "https://localhost:8080/"
        },
        "id": "e3p7vfk7lF04",
        "outputId": "fb199c2f-4d5e-4106-cefd-c2bd28de5c2d"
      },
      "execution_count": 100,
      "outputs": [
        {
          "output_type": "execute_result",
          "data": {
            "text/plain": [
              "<tf.Tensor: shape=(), dtype=float32, numpy=0.9671384>"
            ]
          },
          "metadata": {},
          "execution_count": 100
        }
      ]
    },
    {
      "cell_type": "code",
      "source": [
        "# Check for equality\n",
        "F[tf.argmax(F)] == tf.reduce_max(F)"
      ],
      "metadata": {
        "colab": {
          "base_uri": "https://localhost:8080/"
        },
        "id": "nnTZB7-VlLBl",
        "outputId": "7035a2c5-f769-4fb5-aa93-27a59961dc6e"
      },
      "execution_count": 101,
      "outputs": [
        {
          "output_type": "execute_result",
          "data": {
            "text/plain": [
              "<tf.Tensor: shape=(), dtype=bool, numpy=True>"
            ]
          },
          "metadata": {},
          "execution_count": 101
        }
      ]
    },
    {
      "cell_type": "code",
      "source": [
        "# Find the positional minimum\n",
        "tf.argmin(F)"
      ],
      "metadata": {
        "colab": {
          "base_uri": "https://localhost:8080/"
        },
        "id": "91E9vSPJlZNC",
        "outputId": "b7f527cd-61cd-49b3-b7a1-9fc7ea968ec0"
      },
      "execution_count": 102,
      "outputs": [
        {
          "output_type": "execute_result",
          "data": {
            "text/plain": [
              "<tf.Tensor: shape=(), dtype=int64, numpy=16>"
            ]
          },
          "metadata": {},
          "execution_count": 102
        }
      ]
    },
    {
      "cell_type": "code",
      "source": [
        "# Find the minimum using the positional minimum index\n",
        "F[tf.argmin(F)]"
      ],
      "metadata": {
        "colab": {
          "base_uri": "https://localhost:8080/"
        },
        "id": "ZCxSqO97leD-",
        "outputId": "686d7db0-e7f4-42eb-99af-d5e5d421da04"
      },
      "execution_count": 103,
      "outputs": [
        {
          "output_type": "execute_result",
          "data": {
            "text/plain": [
              "<tf.Tensor: shape=(), dtype=float32, numpy=0.009463668>"
            ]
          },
          "metadata": {},
          "execution_count": 103
        }
      ]
    },
    {
      "cell_type": "markdown",
      "source": [
        "### Squeezing a tensor (removing all single dimensions)"
      ],
      "metadata": {
        "id": "hTASMKw9lm_r"
      }
    },
    {
      "cell_type": "code",
      "source": [
        "# Create a tensor to get started\n",
        "tf.random.set_seed(42)\n",
        "G = tf.constant(tf.random.uniform(shape=[50]), shape=(1,1,1,1,50))\n",
        "G"
      ],
      "metadata": {
        "colab": {
          "base_uri": "https://localhost:8080/"
        },
        "id": "0NQp2ORtn5Jj",
        "outputId": "a384277e-0dcf-4413-abae-928e77d18c21"
      },
      "execution_count": 104,
      "outputs": [
        {
          "output_type": "execute_result",
          "data": {
            "text/plain": [
              "<tf.Tensor: shape=(1, 1, 1, 1, 50), dtype=float32, numpy=\n",
              "array([[[[[0.6645621 , 0.44100678, 0.3528825 , 0.46448255, 0.03366041,\n",
              "           0.68467236, 0.74011743, 0.8724445 , 0.22632635, 0.22319686,\n",
              "           0.3103881 , 0.7223358 , 0.13318717, 0.5480639 , 0.5746088 ,\n",
              "           0.8996835 , 0.00946367, 0.5212307 , 0.6345445 , 0.1993283 ,\n",
              "           0.72942245, 0.54583454, 0.10756552, 0.6767061 , 0.6602763 ,\n",
              "           0.33695042, 0.60141766, 0.21062577, 0.8527372 , 0.44062173,\n",
              "           0.9485276 , 0.23752594, 0.81179297, 0.5263394 , 0.494308  ,\n",
              "           0.21612847, 0.8457197 , 0.8718841 , 0.3083862 , 0.6868038 ,\n",
              "           0.23764038, 0.7817228 , 0.9671384 , 0.06870162, 0.79873943,\n",
              "           0.66028714, 0.5871513 , 0.16461694, 0.7381023 , 0.32054043]]]]],\n",
              "      dtype=float32)>"
            ]
          },
          "metadata": {},
          "execution_count": 104
        }
      ]
    },
    {
      "cell_type": "code",
      "source": [
        "G.shape"
      ],
      "metadata": {
        "colab": {
          "base_uri": "https://localhost:8080/"
        },
        "id": "alIj052XoFXY",
        "outputId": "efe20355-e423-43ce-cc6d-2d8e588660cb"
      },
      "execution_count": 105,
      "outputs": [
        {
          "output_type": "execute_result",
          "data": {
            "text/plain": [
              "TensorShape([1, 1, 1, 1, 50])"
            ]
          },
          "metadata": {},
          "execution_count": 105
        }
      ]
    },
    {
      "cell_type": "code",
      "source": [
        "G_squeezed = tf.squeeze(G)\n",
        "G_squeezed, G_squeezed.shape"
      ],
      "metadata": {
        "colab": {
          "base_uri": "https://localhost:8080/"
        },
        "id": "XfdPPk3-oI9Q",
        "outputId": "a9641c7e-1699-4696-dd91-20b3a7fdeb24"
      },
      "execution_count": 106,
      "outputs": [
        {
          "output_type": "execute_result",
          "data": {
            "text/plain": [
              "(<tf.Tensor: shape=(50,), dtype=float32, numpy=\n",
              " array([0.6645621 , 0.44100678, 0.3528825 , 0.46448255, 0.03366041,\n",
              "        0.68467236, 0.74011743, 0.8724445 , 0.22632635, 0.22319686,\n",
              "        0.3103881 , 0.7223358 , 0.13318717, 0.5480639 , 0.5746088 ,\n",
              "        0.8996835 , 0.00946367, 0.5212307 , 0.6345445 , 0.1993283 ,\n",
              "        0.72942245, 0.54583454, 0.10756552, 0.6767061 , 0.6602763 ,\n",
              "        0.33695042, 0.60141766, 0.21062577, 0.8527372 , 0.44062173,\n",
              "        0.9485276 , 0.23752594, 0.81179297, 0.5263394 , 0.494308  ,\n",
              "        0.21612847, 0.8457197 , 0.8718841 , 0.3083862 , 0.6868038 ,\n",
              "        0.23764038, 0.7817228 , 0.9671384 , 0.06870162, 0.79873943,\n",
              "        0.66028714, 0.5871513 , 0.16461694, 0.7381023 , 0.32054043],\n",
              "       dtype=float32)>, TensorShape([50]))"
            ]
          },
          "metadata": {},
          "execution_count": 106
        }
      ]
    },
    {
      "cell_type": "markdown",
      "source": [
        "### One-hot encoding tensors"
      ],
      "metadata": {
        "id": "g3-PwoILoRFB"
      }
    },
    {
      "cell_type": "code",
      "source": [
        "# Create a list of indices\n",
        "some_list = [0, 1, 2, 3] # could be red, green, blue, purple\n",
        "\n",
        "# One hot encode our list of indices\n",
        "tf.one_hot(some_list, depth=4)"
      ],
      "metadata": {
        "colab": {
          "base_uri": "https://localhost:8080/"
        },
        "id": "FN_ZFUngoptV",
        "outputId": "62ce828a-ec51-4490-9038-afe2d04c6b71"
      },
      "execution_count": 107,
      "outputs": [
        {
          "output_type": "execute_result",
          "data": {
            "text/plain": [
              "<tf.Tensor: shape=(4, 4), dtype=float32, numpy=\n",
              "array([[1., 0., 0., 0.],\n",
              "       [0., 1., 0., 0.],\n",
              "       [0., 0., 1., 0.],\n",
              "       [0., 0., 0., 1.]], dtype=float32)>"
            ]
          },
          "metadata": {},
          "execution_count": 107
        }
      ]
    },
    {
      "cell_type": "code",
      "source": [
        "# Specify custom values for one hot encoding\n",
        "tf.one_hot(some_list, depth=4, on_value=\"Yeeees\", off_value=\"Noooo\")"
      ],
      "metadata": {
        "colab": {
          "base_uri": "https://localhost:8080/"
        },
        "id": "1NGu_GKhpQhC",
        "outputId": "454a5eab-f459-4400-86f1-a4dcaf656bd0"
      },
      "execution_count": 108,
      "outputs": [
        {
          "output_type": "execute_result",
          "data": {
            "text/plain": [
              "<tf.Tensor: shape=(4, 4), dtype=string, numpy=\n",
              "array([[b'Yeeees', b'Noooo', b'Noooo', b'Noooo'],\n",
              "       [b'Noooo', b'Yeeees', b'Noooo', b'Noooo'],\n",
              "       [b'Noooo', b'Noooo', b'Yeeees', b'Noooo'],\n",
              "       [b'Noooo', b'Noooo', b'Noooo', b'Yeeees']], dtype=object)>"
            ]
          },
          "metadata": {},
          "execution_count": 108
        }
      ]
    },
    {
      "cell_type": "markdown",
      "source": [
        "### Squaring, log, square root"
      ],
      "metadata": {
        "id": "hypQs7MxpoCh"
      }
    },
    {
      "cell_type": "code",
      "source": [
        "# Create a new tensor\n",
        "H = tf.range(1, 10)\n",
        "H"
      ],
      "metadata": {
        "colab": {
          "base_uri": "https://localhost:8080/"
        },
        "id": "VoMKqdG4qJ56",
        "outputId": "001facf8-100a-4056-df3f-9789df9e0b02"
      },
      "execution_count": 109,
      "outputs": [
        {
          "output_type": "execute_result",
          "data": {
            "text/plain": [
              "<tf.Tensor: shape=(9,), dtype=int32, numpy=array([1, 2, 3, 4, 5, 6, 7, 8, 9], dtype=int32)>"
            ]
          },
          "metadata": {},
          "execution_count": 109
        }
      ]
    },
    {
      "cell_type": "code",
      "source": [
        "# Square it\n",
        "tf.square(H)"
      ],
      "metadata": {
        "colab": {
          "base_uri": "https://localhost:8080/"
        },
        "id": "kgQIIu6_qOE2",
        "outputId": "1e7feb39-b4f3-4668-8b71-9b0bac9c9dd9"
      },
      "execution_count": 110,
      "outputs": [
        {
          "output_type": "execute_result",
          "data": {
            "text/plain": [
              "<tf.Tensor: shape=(9,), dtype=int32, numpy=array([ 1,  4,  9, 16, 25, 36, 49, 64, 81], dtype=int32)>"
            ]
          },
          "metadata": {},
          "execution_count": 110
        }
      ]
    },
    {
      "cell_type": "code",
      "source": [
        "# Find the squareroot (non-int type)\n",
        "tf.sqrt(tf.cast(H, dtype=tf.float32))"
      ],
      "metadata": {
        "colab": {
          "base_uri": "https://localhost:8080/"
        },
        "id": "17AXj8IbqQ5q",
        "outputId": "7e061726-ea96-421d-b25d-7f309042969f"
      },
      "execution_count": 111,
      "outputs": [
        {
          "output_type": "execute_result",
          "data": {
            "text/plain": [
              "<tf.Tensor: shape=(9,), dtype=float32, numpy=\n",
              "array([0.99999994, 1.4142134 , 1.7320508 , 1.9999999 , 2.236068  ,\n",
              "       2.4494896 , 2.6457512 , 2.8284268 , 3.        ], dtype=float32)>"
            ]
          },
          "metadata": {},
          "execution_count": 111
        }
      ]
    },
    {
      "cell_type": "code",
      "source": [
        "# Find the log\n",
        "tf.math.log(tf.cast(H, dtype=tf.float32))"
      ],
      "metadata": {
        "colab": {
          "base_uri": "https://localhost:8080/"
        },
        "id": "-6TgYn7fqXYY",
        "outputId": "4df9e046-def0-4d41-cc5c-1ebe7f252741"
      },
      "execution_count": 112,
      "outputs": [
        {
          "output_type": "execute_result",
          "data": {
            "text/plain": [
              "<tf.Tensor: shape=(9,), dtype=float32, numpy=\n",
              "array([0.       , 0.6931472, 1.0986123, 1.3862944, 1.609438 , 1.7917595,\n",
              "       1.9459102, 2.0794415, 2.1972246], dtype=float32)>"
            ]
          },
          "metadata": {},
          "execution_count": 112
        }
      ]
    },
    {
      "cell_type": "markdown",
      "source": [
        "### Tensors and NumPy\n",
        "\n",
        "TensorFlow interacts beautifully with NumPy array\n",
        "\n",
        "🔑**Note**: One of the main differences between a TensorFlow tensor and NumPy array is that a TensorFlow tensor can be run on GPU or TPU (for faster numerical processing) "
      ],
      "metadata": {
        "id": "C476xR6YqpRl"
      }
    },
    {
      "cell_type": "code",
      "source": [
        "# Create a tensor directly from a NumPy array\n",
        "J = tf.constant(np.array([3., 7., 10.]))\n",
        "J"
      ],
      "metadata": {
        "colab": {
          "base_uri": "https://localhost:8080/"
        },
        "id": "SVnjHULSrIDQ",
        "outputId": "26242225-5ac2-4395-e303-9f8994591a35"
      },
      "execution_count": 113,
      "outputs": [
        {
          "output_type": "execute_result",
          "data": {
            "text/plain": [
              "<tf.Tensor: shape=(3,), dtype=float64, numpy=array([ 3.,  7., 10.])>"
            ]
          },
          "metadata": {},
          "execution_count": 113
        }
      ]
    },
    {
      "cell_type": "code",
      "source": [
        "# Convert our tensor back to a NumPy array\n",
        "np.array(J), type(np.array(J))"
      ],
      "metadata": {
        "colab": {
          "base_uri": "https://localhost:8080/"
        },
        "id": "s20bf-hUrTCz",
        "outputId": "331b7429-a5d9-4837-d7a7-a0770d4718fe"
      },
      "execution_count": 114,
      "outputs": [
        {
          "output_type": "execute_result",
          "data": {
            "text/plain": [
              "(array([ 3.,  7., 10.]), numpy.ndarray)"
            ]
          },
          "metadata": {},
          "execution_count": 114
        }
      ]
    },
    {
      "cell_type": "code",
      "source": [
        "# Convert tensor J to NumPy array\n",
        "J.numpy(), type(J.numpy())"
      ],
      "metadata": {
        "colab": {
          "base_uri": "https://localhost:8080/"
        },
        "id": "q6yJiVvorbIm",
        "outputId": "3b66c5b4-0fea-4f09-c998-80b1cd47aaf4"
      },
      "execution_count": 115,
      "outputs": [
        {
          "output_type": "execute_result",
          "data": {
            "text/plain": [
              "(array([ 3.,  7., 10.]), numpy.ndarray)"
            ]
          },
          "metadata": {},
          "execution_count": 115
        }
      ]
    },
    {
      "cell_type": "code",
      "source": [
        "J = tf.constant([3.])\n",
        "J.numpy()[0]"
      ],
      "metadata": {
        "colab": {
          "base_uri": "https://localhost:8080/"
        },
        "id": "TAlcqKwqrla8",
        "outputId": "9d4166f7-7e58-49a2-aff9-f30efe33fd5d"
      },
      "execution_count": 116,
      "outputs": [
        {
          "output_type": "execute_result",
          "data": {
            "text/plain": [
              "3.0"
            ]
          },
          "metadata": {},
          "execution_count": 116
        }
      ]
    },
    {
      "cell_type": "code",
      "source": [
        "# The default types of each are slightly different\n",
        "numpy_J = tf.constant(np.array([3., 7., 10.]))\n",
        "tensor_J = tf.constant([3., 7., 10.])\n",
        "# Check the datatypes of each\n",
        "numpy_J.dtype, tensor_J.dtype"
      ],
      "metadata": {
        "colab": {
          "base_uri": "https://localhost:8080/"
        },
        "id": "v--eplhkroGh",
        "outputId": "cb628202-cff2-442b-c009-d88984fb72c4"
      },
      "execution_count": 117,
      "outputs": [
        {
          "output_type": "execute_result",
          "data": {
            "text/plain": [
              "(tf.float64, tf.float32)"
            ]
          },
          "metadata": {},
          "execution_count": 117
        }
      ]
    },
    {
      "cell_type": "markdown",
      "source": [
        "### Finding access to GPUs"
      ],
      "metadata": {
        "id": "6crkrsF-sGer"
      }
    },
    {
      "cell_type": "code",
      "source": [
        "import tensorflow as tf\n",
        "tf.config.list_physical_devices()"
      ],
      "metadata": {
        "colab": {
          "base_uri": "https://localhost:8080/"
        },
        "id": "dq9RvhcNs9hr",
        "outputId": "4e10cc55-7ee8-4d74-b6a7-58462381aa95"
      },
      "execution_count": 118,
      "outputs": [
        {
          "output_type": "execute_result",
          "data": {
            "text/plain": [
              "[PhysicalDevice(name='/physical_device:CPU:0', device_type='CPU')]"
            ]
          },
          "metadata": {},
          "execution_count": 118
        }
      ]
    },
    {
      "cell_type": "code",
      "source": [
        "tf.config.list_physical_devices(\"GPU\")"
      ],
      "metadata": {
        "colab": {
          "base_uri": "https://localhost:8080/"
        },
        "id": "_7A78YTvtJtb",
        "outputId": "066dd4bd-a9a8-4a1b-870d-a69a72d76776"
      },
      "execution_count": 119,
      "outputs": [
        {
          "output_type": "execute_result",
          "data": {
            "text/plain": [
              "[]"
            ]
          },
          "metadata": {},
          "execution_count": 119
        }
      ]
    },
    {
      "cell_type": "code",
      "source": [
        "!nvidia-smi"
      ],
      "metadata": {
        "colab": {
          "base_uri": "https://localhost:8080/"
        },
        "id": "Ya1c1o6MtUT9",
        "outputId": "82814051-ea4e-4021-f8f7-d3717d91bdec"
      },
      "execution_count": 120,
      "outputs": [
        {
          "output_type": "stream",
          "name": "stdout",
          "text": [
            "NVIDIA-SMI has failed because it couldn't communicate with the NVIDIA driver. Make sure that the latest NVIDIA driver is installed and running.\n",
            "\n"
          ]
        }
      ]
    },
    {
      "cell_type": "markdown",
      "source": [
        "> 🔑 **Note**: If you have access to a CDA-enabled GPU, TensorFlow will automatically use it whenever possible."
      ],
      "metadata": {
        "id": "b8GO5zX8uCMI"
      }
    },
    {
      "cell_type": "markdown",
      "source": [
        "**Exercises**"
      ],
      "metadata": {
        "id": "JwpWtV19t2i4"
      }
    },
    {
      "cell_type": "code",
      "source": [
        "# 1. Create a vector, scalar, matrix and tensor with values of your choosing using tf.consant()\n",
        "import tensorflow as tf\n",
        "vector = tf.constant([1, 2, 3])\n",
        "scalar = tf.constant(1)\n",
        "matrix = tf.constant([[1, 2],\n",
        "                      [3, 4]])\n",
        "tensor = tf.constant([[[1, 2],\n",
        "                       [3, 4]],\n",
        "                      [[5, 6],\n",
        "                       [7, 8]]])\n",
        "vector, scalar, matrix, tensor"
      ],
      "metadata": {
        "colab": {
          "base_uri": "https://localhost:8080/"
        },
        "id": "rTcUiMDhBMJt",
        "outputId": "97effd9f-0a28-4168-d4f7-28f05f8cf2b4"
      },
      "execution_count": 122,
      "outputs": [
        {
          "output_type": "execute_result",
          "data": {
            "text/plain": [
              "(<tf.Tensor: shape=(3,), dtype=int32, numpy=array([1, 2, 3], dtype=int32)>,\n",
              " <tf.Tensor: shape=(), dtype=int32, numpy=1>,\n",
              " <tf.Tensor: shape=(2, 2), dtype=int32, numpy=\n",
              " array([[1, 2],\n",
              "        [3, 4]], dtype=int32)>,\n",
              " <tf.Tensor: shape=(2, 2, 2), dtype=int32, numpy=\n",
              " array([[[1, 2],\n",
              "         [3, 4]],\n",
              " \n",
              "        [[5, 6],\n",
              "         [7, 8]]], dtype=int32)>)"
            ]
          },
          "metadata": {},
          "execution_count": 122
        }
      ]
    },
    {
      "cell_type": "code",
      "source": [
        "# 2. Find shape, rank and size of the tensors you created in 1 \n",
        "vector.shape, vector.ndim, tf.size(vector).numpy()"
      ],
      "metadata": {
        "colab": {
          "base_uri": "https://localhost:8080/"
        },
        "id": "5Gipa3mFBcXh",
        "outputId": "351af8bf-02ee-4486-f030-b660a2acb93b"
      },
      "execution_count": 123,
      "outputs": [
        {
          "output_type": "execute_result",
          "data": {
            "text/plain": [
              "(TensorShape([3]), 1, 3)"
            ]
          },
          "metadata": {},
          "execution_count": 123
        }
      ]
    },
    {
      "cell_type": "code",
      "source": [
        "# 3. Creare two tensors containing random values between 0 and 1 with shape [5, 300]"
      ],
      "metadata": {
        "id": "499fwj8TCCWW"
      },
      "execution_count": 124,
      "outputs": []
    },
    {
      "cell_type": "code",
      "source": [
        "# 4. Multiply the two tensors you created in 3 using matrix multiplication"
      ],
      "metadata": {
        "id": "7U0T62iCDfME"
      },
      "execution_count": 125,
      "outputs": []
    },
    {
      "cell_type": "code",
      "source": [
        "# 5. Multiply the two tensors you created in 3 using dot product"
      ],
      "metadata": {
        "id": "CZ8XzjjjDpDQ"
      },
      "execution_count": 126,
      "outputs": []
    },
    {
      "cell_type": "code",
      "source": [
        "# 6. Create a tensor with random values between 0 and 1 with shape [224, 224, 3]"
      ],
      "metadata": {
        "id": "rjYYxPgcDuHm"
      },
      "execution_count": 127,
      "outputs": []
    },
    {
      "cell_type": "code",
      "source": [
        "# 7. Find the min and max values of the tensor you created in 6 along the first axis"
      ],
      "metadata": {
        "id": "COCtE8BQD02d"
      },
      "execution_count": 128,
      "outputs": []
    },
    {
      "cell_type": "code",
      "source": [
        "# 8. Created a tensor with random values of shape [1, 224, 224, 3] then squeeze it to change the shape to [224, 224, 3]"
      ],
      "metadata": {
        "id": "u32FDtY1D-R1"
      },
      "execution_count": 129,
      "outputs": []
    },
    {
      "cell_type": "code",
      "source": [
        "# 9. Create a tensor with shape [10] using your own choice of values, then find the index which has the maximum value"
      ],
      "metadata": {
        "id": "qJZvynpvEKx2"
      },
      "execution_count": 130,
      "outputs": []
    },
    {
      "cell_type": "code",
      "source": [
        "# 10. One-hot encode the tensor you created in 9"
      ],
      "metadata": {
        "id": "WeA667gwEW0b"
      },
      "execution_count": 131,
      "outputs": []
    },
    {
      "cell_type": "code",
      "source": [
        ""
      ],
      "metadata": {
        "id": "3CrVhEg90fSn"
      },
      "execution_count": 131,
      "outputs": []
    }
  ]
}